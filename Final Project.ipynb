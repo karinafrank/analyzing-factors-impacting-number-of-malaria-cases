{
 "cells": [
  {
   "cell_type": "code",
   "execution_count": 13,
   "metadata": {},
   "outputs": [],
   "source": [
    "# import packages to conduct data analysis and to make interactive charts and maps\n",
    "\n",
    "import pandas as pd # for data analysis\n",
    "import datetime as dt # to manipulate date/time data\n",
    "import numpy as np # for data analysis\n",
    "import plotly.express as px # for visualizations"
   ]
  },
  {
   "cell_type": "markdown",
   "metadata": {},
   "source": [
    "## Graphing Process\n",
    "The data was read into a database format and Plotly express was used for visualization "
   ]
  },
  {
   "cell_type": "code",
   "execution_count": 14,
   "metadata": {},
   "outputs": [],
   "source": [
    "data = \"D:\\Finalsss.csv\""
   ]
  },
  {
   "cell_type": "code",
   "execution_count": 15,
   "metadata": {},
   "outputs": [],
   "source": [
    "df = pd.read_csv(data)"
   ]
  },
  {
   "cell_type": "code",
   "execution_count": 17,
   "metadata": {
    "scrolled": true
   },
   "outputs": [
    {
     "data": {
      "application/vnd.plotly.v1+json": {
       "config": {
        "plotlyServerURL": "https://plot.ly"
       },
       "data": [
        {
         "hoverlabel": {
          "namelength": 0
         },
         "hovertemplate": "<b>%{hovertext}</b><br><br>cont=Africa<br>year=2000<br>GDP/Capita=%{x}<br>Malaria Cases / 100000=%{y}<br>pop=%{marker.size}",
         "hovertext": [
          "Angola",
          "Benin",
          "Botswana",
          "Burkina Faso",
          "Burundi",
          "Chad",
          "Cote d'Ivoire",
          "Djibouti",
          "Egypt",
          "Eritrea",
          "Ethiopia",
          "Ghana",
          "Guinea-Bissau",
          "Kenya",
          "Malawi",
          "Mali",
          "Mauritania",
          "Morocco",
          "Mozambique",
          "Namibia",
          "Niger",
          "Nigeria",
          "Sao Tome and Principe",
          "Senegal",
          "Somalia",
          "South Africa",
          "Sudan",
          "Swaziland",
          "Togo",
          "Zambia",
          "Zimbabwe"
         ],
         "ids": [
          "Angola",
          "Benin",
          "Botswana",
          "Burkina Faso",
          "Burundi",
          "Chad",
          "Cote d'Ivoire",
          "Djibouti",
          "Egypt",
          "Eritrea",
          "Ethiopia",
          "Ghana",
          "Guinea-Bissau",
          "Kenya",
          "Malawi",
          "Mali",
          "Mauritania",
          "Morocco",
          "Mozambique",
          "Namibia",
          "Niger",
          "Nigeria",
          "Sao Tome and Principe",
          "Senegal",
          "Somalia",
          "South Africa",
          "Sudan",
          "Swaziland",
          "Togo",
          "Zambia",
          "Zimbabwe"
         ],
         "legendgroup": "Africa",
         "marker": {
          "color": "#636efa",
          "size": [
           16400000,
           6870000,
           1640000,
           11600000,
           6380000,
           8360000,
           16500000,
           718000,
           68800000,
           2290000,
           66200000,
           19300000,
           1200000,
           32000000,
           11100000,
           10900000,
           2630000,
           28800000,
           17700000,
           1790000,
           11300000,
           122000000,
           142000,
           9800000,
           8870000,
           45000000,
           27300000,
           1010000,
           4920000,
           10400000,
           11900000
          ],
          "sizemode": "area",
          "sizeref": 442975.20661157026,
          "symbol": "circle"
         },
         "mode": "markers",
         "name": "Africa",
         "showlegend": true,
         "type": "scatter",
         "x": [
          3890,
          1670,
          10700,
          1080,
          718,
          992,
          2990,
          2160,
          7500,
          2490,
          621,
          2220,
          1410,
          2100,
          884,
          1470,
          2830,
          4490,
          573,
          6540,
          755,
          3070,
          1960,
          2420,
          603,
          9700,
          2320,
          6170,
          1240,
          2130,
          2950
         ],
         "xaxis": "x",
         "y": [
          11700,
          9790,
          4130,
          8690,
          45900,
          4360,
          8750,
          640,
          0.0255,
          3230,
          553,
          16600,
          18000,
          237,
          32500,
          5460,
          10100,
          0.205,
          18000,
          27600,
          5810,
          1990,
          31000,
          10800,
          147,
          142,
          13000,
          4310,
          7370,
          34500,
          12100
         ],
         "yaxis": "y"
        },
        {
         "hoverlabel": {
          "namelength": 0
         },
         "hovertemplate": "<b>%{hovertext}</b><br><br>cont=Americas<br>year=2000<br>GDP/Capita=%{x}<br>Malaria Cases / 100000=%{y}<br>pop=%{marker.size}",
         "hovertext": [
          "Argentina",
          "Bolivia",
          "Brazil",
          "Colombia",
          "Costa Rica",
          "Dominican Republic",
          "Ecuador",
          "El Salvador",
          "Guatemala",
          "Honduras",
          "Nicaragua",
          "Panama",
          "Paraguay",
          "Venezuela"
         ],
         "ids": [
          "Argentina",
          "Bolivia",
          "Brazil",
          "Colombia",
          "Costa Rica",
          "Dominican Republic",
          "Ecuador",
          "El Salvador",
          "Guatemala",
          "Honduras",
          "Nicaragua",
          "Panama",
          "Paraguay",
          "Venezuela"
         ],
         "legendgroup": "Americas",
         "marker": {
          "color": "#EF553B",
          "size": [
           36900000,
           8420000,
           175000000,
           39600000,
           3960000,
           8470000,
           12700000,
           5890000,
           11700000,
           6570000,
           5070000,
           3030000,
           5320000,
           24200000
          ],
          "sizemode": "area",
          "sizeref": 442975.20661157026,
          "symbol": "circle"
         },
         "mode": "markers",
         "name": "Americas",
         "showlegend": true,
         "type": "scatter",
         "x": [
          15000,
          4370,
          11400,
          8410,
          9790,
          8290,
          7360,
          5610,
          6070,
          3300,
          3420,
          10600,
          7980,
          14600
         ],
         "xaxis": "x",
         "y": [
          1.19,
          378,
          351,
          258,
          47.8,
          13.9,
          801,
          12,
          475,
          567,
          470,
          35.1,
          128,
          122
         ],
         "yaxis": "y"
        },
        {
         "hoverlabel": {
          "namelength": 0
         },
         "hovertemplate": "<b>%{hovertext}</b><br><br>cont=Asia<br>year=2000<br>GDP/Capita=%{x}<br>Malaria Cases / 100000=%{y}<br>pop=%{marker.size}",
         "hovertext": [
          "Bangladesh",
          "Cambodia",
          "China",
          "India",
          "Indonesia",
          "Iran",
          "Iraq",
          "Malaysia",
          "Nepal",
          "Oman",
          "Pakistan",
          "Philippines",
          "Saudi Arabia",
          "Sri Lanka",
          "Syria",
          "Thailand",
          "Vietnam"
         ],
         "ids": [
          "Bangladesh",
          "Cambodia",
          "China",
          "India",
          "Indonesia",
          "Iran",
          "Iraq",
          "Malaysia",
          "Nepal",
          "Oman",
          "Pakistan",
          "Philippines",
          "Saudi Arabia",
          "Sri Lanka",
          "Syria",
          "Thailand",
          "Vietnam"
         ],
         "legendgroup": "Asia",
         "marker": {
          "color": "#00cc96",
          "size": [
           128000000,
           12200000,
           1290000000,
           1060000000,
           212000000,
           65600000,
           23500000,
           23200000,
           23900000,
           2270000,
           142000000,
           78000000,
           20700000,
           18800000,
           16400000,
           63000000,
           79900000
          ],
          "sizemode": "area",
          "sizeref": 442975.20661157026,
          "symbol": "circle"
         },
         "mode": "markers",
         "name": "Asia",
         "showlegend": true,
         "type": "scatter",
         "x": [
          1690,
          1390,
          3690,
          2710,
          5810,
          13200,
          12200,
          16300,
          1530,
          44000,
          3400,
          4220,
          43300,
          5540,
          5130,
          9190,
          2570
         ],
         "xaxis": "x",
         "y": [
          43.3,
          489,
          1.46,
          194,
          47.8,
          29.8,
          7.42,
          54.6,
          31.2,
          28.9,
          57.2,
          48,
          31.8,
          1120,
          0.254,
          135,
          94
         ],
         "yaxis": "y"
        },
        {
         "hoverlabel": {
          "namelength": 0
         },
         "hovertemplate": "<b>%{hovertext}</b><br><br>cont=Europe<br>year=2000<br>GDP/Capita=%{x}<br>Malaria Cases / 100000=%{y}<br>pop=%{marker.size}",
         "hovertext": [
          "Turkey"
         ],
         "ids": [
          "Turkey"
         ],
         "legendgroup": "Europe",
         "marker": {
          "color": "#ab63fa",
          "size": [
           63200000
          ],
          "sizemode": "area",
          "sizeref": 442975.20661157026,
          "symbol": "circle"
         },
         "mode": "markers",
         "name": "Europe",
         "showlegend": true,
         "type": "scatter",
         "x": [
          13900
         ],
         "xaxis": "x",
         "y": [
          16.8
         ],
         "yaxis": "y"
        }
       ],
       "frames": [
        {
         "data": [
          {
           "hoverlabel": {
            "namelength": 0
           },
           "hovertemplate": "<b>%{hovertext}</b><br><br>cont=Africa<br>year=2000<br>GDP/Capita=%{x}<br>Malaria Cases / 100000=%{y}<br>pop=%{marker.size}",
           "hovertext": [
            "Angola",
            "Benin",
            "Botswana",
            "Burkina Faso",
            "Burundi",
            "Chad",
            "Cote d'Ivoire",
            "Djibouti",
            "Egypt",
            "Eritrea",
            "Ethiopia",
            "Ghana",
            "Guinea-Bissau",
            "Kenya",
            "Malawi",
            "Mali",
            "Mauritania",
            "Morocco",
            "Mozambique",
            "Namibia",
            "Niger",
            "Nigeria",
            "Sao Tome and Principe",
            "Senegal",
            "Somalia",
            "South Africa",
            "Sudan",
            "Swaziland",
            "Togo",
            "Zambia",
            "Zimbabwe"
           ],
           "ids": [
            "Angola",
            "Benin",
            "Botswana",
            "Burkina Faso",
            "Burundi",
            "Chad",
            "Cote d'Ivoire",
            "Djibouti",
            "Egypt",
            "Eritrea",
            "Ethiopia",
            "Ghana",
            "Guinea-Bissau",
            "Kenya",
            "Malawi",
            "Mali",
            "Mauritania",
            "Morocco",
            "Mozambique",
            "Namibia",
            "Niger",
            "Nigeria",
            "Sao Tome and Principe",
            "Senegal",
            "Somalia",
            "South Africa",
            "Sudan",
            "Swaziland",
            "Togo",
            "Zambia",
            "Zimbabwe"
           ],
           "legendgroup": "Africa",
           "marker": {
            "color": "#636efa",
            "size": [
             16400000,
             6870000,
             1640000,
             11600000,
             6380000,
             8360000,
             16500000,
             718000,
             68800000,
             2290000,
             66200000,
             19300000,
             1200000,
             32000000,
             11100000,
             10900000,
             2630000,
             28800000,
             17700000,
             1790000,
             11300000,
             122000000,
             142000,
             9800000,
             8870000,
             45000000,
             27300000,
             1010000,
             4920000,
             10400000,
             11900000
            ],
            "sizemode": "area",
            "sizeref": 442975.20661157026,
            "symbol": "circle"
           },
           "mode": "markers",
           "name": "Africa",
           "showlegend": true,
           "type": "scatter",
           "x": [
            3890,
            1670,
            10700,
            1080,
            718,
            992,
            2990,
            2160,
            7500,
            2490,
            621,
            2220,
            1410,
            2100,
            884,
            1470,
            2830,
            4490,
            573,
            6540,
            755,
            3070,
            1960,
            2420,
            603,
            9700,
            2320,
            6170,
            1240,
            2130,
            2950
           ],
           "xaxis": "x",
           "y": [
            11700,
            9790,
            4130,
            8690,
            45900,
            4360,
            8750,
            640,
            0.0255,
            3230,
            553,
            16600,
            18000,
            237,
            32500,
            5460,
            10100,
            0.205,
            18000,
            27600,
            5810,
            1990,
            31000,
            10800,
            147,
            142,
            13000,
            4310,
            7370,
            34500,
            12100
           ],
           "yaxis": "y"
          },
          {
           "hoverlabel": {
            "namelength": 0
           },
           "hovertemplate": "<b>%{hovertext}</b><br><br>cont=Americas<br>year=2000<br>GDP/Capita=%{x}<br>Malaria Cases / 100000=%{y}<br>pop=%{marker.size}",
           "hovertext": [
            "Argentina",
            "Bolivia",
            "Brazil",
            "Colombia",
            "Costa Rica",
            "Dominican Republic",
            "Ecuador",
            "El Salvador",
            "Guatemala",
            "Honduras",
            "Nicaragua",
            "Panama",
            "Paraguay",
            "Venezuela"
           ],
           "ids": [
            "Argentina",
            "Bolivia",
            "Brazil",
            "Colombia",
            "Costa Rica",
            "Dominican Republic",
            "Ecuador",
            "El Salvador",
            "Guatemala",
            "Honduras",
            "Nicaragua",
            "Panama",
            "Paraguay",
            "Venezuela"
           ],
           "legendgroup": "Americas",
           "marker": {
            "color": "#EF553B",
            "size": [
             36900000,
             8420000,
             175000000,
             39600000,
             3960000,
             8470000,
             12700000,
             5890000,
             11700000,
             6570000,
             5070000,
             3030000,
             5320000,
             24200000
            ],
            "sizemode": "area",
            "sizeref": 442975.20661157026,
            "symbol": "circle"
           },
           "mode": "markers",
           "name": "Americas",
           "showlegend": true,
           "type": "scatter",
           "x": [
            15000,
            4370,
            11400,
            8410,
            9790,
            8290,
            7360,
            5610,
            6070,
            3300,
            3420,
            10600,
            7980,
            14600
           ],
           "xaxis": "x",
           "y": [
            1.19,
            378,
            351,
            258,
            47.8,
            13.9,
            801,
            12,
            475,
            567,
            470,
            35.1,
            128,
            122
           ],
           "yaxis": "y"
          },
          {
           "hoverlabel": {
            "namelength": 0
           },
           "hovertemplate": "<b>%{hovertext}</b><br><br>cont=Asia<br>year=2000<br>GDP/Capita=%{x}<br>Malaria Cases / 100000=%{y}<br>pop=%{marker.size}",
           "hovertext": [
            "Bangladesh",
            "Cambodia",
            "China",
            "India",
            "Indonesia",
            "Iran",
            "Iraq",
            "Malaysia",
            "Nepal",
            "Oman",
            "Pakistan",
            "Philippines",
            "Saudi Arabia",
            "Sri Lanka",
            "Syria",
            "Thailand",
            "Vietnam"
           ],
           "ids": [
            "Bangladesh",
            "Cambodia",
            "China",
            "India",
            "Indonesia",
            "Iran",
            "Iraq",
            "Malaysia",
            "Nepal",
            "Oman",
            "Pakistan",
            "Philippines",
            "Saudi Arabia",
            "Sri Lanka",
            "Syria",
            "Thailand",
            "Vietnam"
           ],
           "legendgroup": "Asia",
           "marker": {
            "color": "#00cc96",
            "size": [
             128000000,
             12200000,
             1290000000,
             1060000000,
             212000000,
             65600000,
             23500000,
             23200000,
             23900000,
             2270000,
             142000000,
             78000000,
             20700000,
             18800000,
             16400000,
             63000000,
             79900000
            ],
            "sizemode": "area",
            "sizeref": 442975.20661157026,
            "symbol": "circle"
           },
           "mode": "markers",
           "name": "Asia",
           "showlegend": true,
           "type": "scatter",
           "x": [
            1690,
            1390,
            3690,
            2710,
            5810,
            13200,
            12200,
            16300,
            1530,
            44000,
            3400,
            4220,
            43300,
            5540,
            5130,
            9190,
            2570
           ],
           "xaxis": "x",
           "y": [
            43.3,
            489,
            1.46,
            194,
            47.8,
            29.8,
            7.42,
            54.6,
            31.2,
            28.9,
            57.2,
            48,
            31.8,
            1120,
            0.254,
            135,
            94
           ],
           "yaxis": "y"
          },
          {
           "hoverlabel": {
            "namelength": 0
           },
           "hovertemplate": "<b>%{hovertext}</b><br><br>cont=Europe<br>year=2000<br>GDP/Capita=%{x}<br>Malaria Cases / 100000=%{y}<br>pop=%{marker.size}",
           "hovertext": [
            "Turkey"
           ],
           "ids": [
            "Turkey"
           ],
           "legendgroup": "Europe",
           "marker": {
            "color": "#ab63fa",
            "size": [
             63200000
            ],
            "sizemode": "area",
            "sizeref": 442975.20661157026,
            "symbol": "circle"
           },
           "mode": "markers",
           "name": "Europe",
           "showlegend": true,
           "type": "scatter",
           "x": [
            13900
           ],
           "xaxis": "x",
           "y": [
            16.8
           ],
           "yaxis": "y"
          }
         ],
         "name": "2000"
        },
        {
         "data": [
          {
           "hoverlabel": {
            "namelength": 0
           },
           "hovertemplate": "<b>%{hovertext}</b><br><br>cont=Africa<br>year=2001<br>GDP/Capita=%{x}<br>Malaria Cases / 100000=%{y}<br>pop=%{marker.size}",
           "hovertext": [
            "Angola",
            "Benin",
            "Botswana",
            "Burkina Faso",
            "Burundi",
            "Chad",
            "Cote d'Ivoire",
            "Djibouti",
            "Egypt",
            "Eritrea",
            "Ethiopia",
            "Ghana",
            "Guinea-Bissau",
            "Kenya",
            "Malawi",
            "Mali",
            "Mauritania",
            "Morocco",
            "Mozambique",
            "Namibia",
            "Niger",
            "Nigeria",
            "Sao Tome and Principe",
            "Senegal",
            "Somalia",
            "South Africa",
            "Sudan",
            "Swaziland",
            "Togo",
            "Zambia",
            "Zimbabwe"
           ],
           "ids": [
            "Angola",
            "Benin",
            "Botswana",
            "Burkina Faso",
            "Burundi",
            "Chad",
            "Cote d'Ivoire",
            "Djibouti",
            "Egypt",
            "Eritrea",
            "Ethiopia",
            "Ghana",
            "Guinea-Bissau",
            "Kenya",
            "Malawi",
            "Mali",
            "Mauritania",
            "Morocco",
            "Mozambique",
            "Namibia",
            "Niger",
            "Nigeria",
            "Sao Tome and Principe",
            "Senegal",
            "Somalia",
            "South Africa",
            "Sudan",
            "Swaziland",
            "Togo",
            "Zambia",
            "Zimbabwe"
           ],
           "legendgroup": "Africa",
           "marker": {
            "color": "#636efa",
            "size": [
             16900000,
             7080000,
             1670000,
             11900000,
             6530000,
             8680000,
             16900000,
             733000,
             70200000,
             2370000,
             68200000,
             19800000,
             1230000,
             32800000,
             11400000,
             11300000,
             2700000,
             29100000,
             18200000,
             1820000,
             11800000,
             125000000,
             145000,
             10000000,
             9190000,
             45600000,
             28000000,
             1010000,
             5060000,
             10700000,
             11900000
            ],
            "sizemode": "area",
            "sizeref": 442975.20661157026,
            "symbol": "circle"
           },
           "mode": "markers",
           "name": "Africa",
           "showlegend": true,
           "type": "scatter",
           "x": [
            3920,
            1700,
            10500,
            1110,
            716,
            1070,
            2920,
            2160,
            7620,
            2610,
            654,
            2250,
            1410,
            2120,
            819,
            1640,
            2810,
            4760,
            628,
            6510,
            780,
            3170,
            1970,
            2470,
            603,
            9830,
            2400,
            6180,
            1180,
            2180,
            2980
           ],
           "xaxis": "x",
           "y": [
            8730,
            9620,
            2750,
            2880,
            49200,
            4720,
            6860,
            577,
            0.0162,
            3280,
            3180,
            14800,
            17500,
            10200,
            32000,
            5950,
            9230,
            0.20199999999999999,
            21200,
            28200,
            11600,
            1760,
            30900,
            8780,
            143,
            57.6,
            12400,
            1750,
            8950,
            36000,
            5330
           ],
           "yaxis": "y"
          },
          {
           "hoverlabel": {
            "namelength": 0
           },
           "hovertemplate": "<b>%{hovertext}</b><br><br>cont=Americas<br>year=2001<br>GDP/Capita=%{x}<br>Malaria Cases / 100000=%{y}<br>pop=%{marker.size}",
           "hovertext": [
            "Argentina",
            "Bolivia",
            "Brazil",
            "Colombia",
            "Costa Rica",
            "Dominican Republic",
            "Ecuador",
            "El Salvador",
            "Guatemala",
            "Honduras",
            "Nicaragua",
            "Panama",
            "Paraguay",
            "Venezuela"
           ],
           "ids": [
            "Argentina",
            "Bolivia",
            "Brazil",
            "Colombia",
            "Costa Rica",
            "Dominican Republic",
            "Ecuador",
            "El Salvador",
            "Guatemala",
            "Honduras",
            "Nicaragua",
            "Panama",
            "Paraguay",
            "Venezuela"
           ],
           "legendgroup": "Americas",
           "marker": {
            "color": "#EF553B",
            "size": [
             37300000,
             8580000,
             177000000,
             40300000,
             4030000,
             8600000,
             12900000,
             5930000,
             11900000,
             6750000,
             5150000,
             3090000,
             5430000,
             24600000
            ],
            "sizemode": "area",
            "sizeref": 442975.20661157026,
            "symbol": "circle"
           },
           "mode": "markers",
           "name": "Americas",
           "showlegend": true,
           "type": "scatter",
           "x": [
            14200,
            4360,
            11400,
            8420,
            9950,
            8370,
            7510,
            5620,
            6070,
            3300,
            3470,
            10500,
            7760,
            14800
           ],
           "xaxis": "x",
           "y": [
            0.5770000000000001,
            1450,
            220,
            487,
            34,
            11.7,
            874,
            5.75,
            311,
            382,
            202,
            30.9,
            49.6,
            119
           ],
           "yaxis": "y"
          },
          {
           "hoverlabel": {
            "namelength": 0
           },
           "hovertemplate": "<b>%{hovertext}</b><br><br>cont=Asia<br>year=2001<br>GDP/Capita=%{x}<br>Malaria Cases / 100000=%{y}<br>pop=%{marker.size}",
           "hovertext": [
            "Bangladesh",
            "Cambodia",
            "China",
            "India",
            "Indonesia",
            "Iran",
            "Iraq",
            "Malaysia",
            "Nepal",
            "Oman",
            "Pakistan",
            "Philippines",
            "Saudi Arabia",
            "Sri Lanka",
            "Syria",
            "Thailand",
            "Vietnam"
           ],
           "ids": [
            "Bangladesh",
            "Cambodia",
            "China",
            "India",
            "Indonesia",
            "Iran",
            "Iraq",
            "Malaysia",
            "Nepal",
            "Oman",
            "Pakistan",
            "Philippines",
            "Saudi Arabia",
            "Sri Lanka",
            "Syria",
            "Thailand",
            "Vietnam"
           ],
           "legendgroup": "Asia",
           "marker": {
            "color": "#00cc96",
            "size": [
             130000000,
             12400000,
             1300000000,
             1080000000,
             214000000,
             66400000,
             24200000,
             23700000,
             24300000,
             2290000,
             146000000,
             79700000,
             21200000,
             18900000,
             16800000,
             63500000,
             80700000
            ],
            "sizemode": "area",
            "sizeref": 442975.20661157026,
            "symbol": "circle"
           },
           "mode": "markers",
           "name": "Asia",
           "showlegend": true,
           "type": "scatter",
           "x": [
            1750,
            1460,
            3970,
            2790,
            5940,
            13200,
            12100,
            16000,
            1570,
            45400,
            3380,
            4260,
            41700,
            5420,
            5210,
            9420,
            2710
           ],
           "xaxis": "x",
           "y": [
            254,
            846,
            2.09,
            196,
            653,
            28.9,
            4.92,
            53.8,
            586,
            26.2,
            85.1,
            44.7,
            14.4,
            354,
            0.466,
            104,
            234
           ],
           "yaxis": "y"
          },
          {
           "hoverlabel": {
            "namelength": 0
           },
           "hovertemplate": "<b>%{hovertext}</b><br><br>cont=Europe<br>year=2001<br>GDP/Capita=%{x}<br>Malaria Cases / 100000=%{y}<br>pop=%{marker.size}",
           "hovertext": [
            "Turkey"
           ],
           "ids": [
            "Turkey"
           ],
           "legendgroup": "Europe",
           "marker": {
            "color": "#ab63fa",
            "size": [
             64200000
            ],
            "sizemode": "area",
            "sizeref": 442975.20661157026,
            "symbol": "circle"
           },
           "mode": "markers",
           "name": "Europe",
           "showlegend": true,
           "type": "scatter",
           "x": [
            12800
           ],
           "xaxis": "x",
           "y": [
            15.6
           ],
           "yaxis": "y"
          }
         ],
         "name": "2001"
        },
        {
         "data": [
          {
           "hoverlabel": {
            "namelength": 0
           },
           "hovertemplate": "<b>%{hovertext}</b><br><br>cont=Africa<br>year=2002<br>GDP/Capita=%{x}<br>Malaria Cases / 100000=%{y}<br>pop=%{marker.size}",
           "hovertext": [
            "Angola",
            "Benin",
            "Botswana",
            "Burkina Faso",
            "Burundi",
            "Chad",
            "Cote d'Ivoire",
            "Djibouti",
            "Egypt",
            "Eritrea",
            "Ethiopia",
            "Ghana",
            "Guinea-Bissau",
            "Kenya",
            "Malawi",
            "Mali",
            "Mauritania",
            "Morocco",
            "Mozambique",
            "Namibia",
            "Niger",
            "Nigeria",
            "Sao Tome and Principe",
            "Senegal",
            "Somalia",
            "South Africa",
            "Sudan",
            "Swaziland",
            "Togo",
            "Zambia",
            "Zimbabwe"
           ],
           "ids": [
            "Angola",
            "Benin",
            "Botswana",
            "Burkina Faso",
            "Burundi",
            "Chad",
            "Cote d'Ivoire",
            "Djibouti",
            "Egypt",
            "Eritrea",
            "Ethiopia",
            "Ghana",
            "Guinea-Bissau",
            "Kenya",
            "Malawi",
            "Mali",
            "Mauritania",
            "Morocco",
            "Mozambique",
            "Namibia",
            "Niger",
            "Nigeria",
            "Sao Tome and Principe",
            "Senegal",
            "Somalia",
            "South Africa",
            "Sudan",
            "Swaziland",
            "Togo",
            "Zambia",
            "Zimbabwe"
           ],
           "legendgroup": "Africa",
           "marker": {
            "color": "#636efa",
            "size": [
             17500000,
             7300000,
             1700000,
             12300000,
             6700000,
             9020000,
             17200000,
             747000,
             71500000,
             2480000,
             70100000,
             20200000,
             1250000,
             33800000,
             11700000,
             11600000,
             2780000,
             29500000,
             18800000,
             1850000,
             12200000,
             129000000,
             147000,
             10300000,
             9500000,
             46200000,
             28700000,
             1020000,
             5200000,
             11000000,
             12000000
            ],
            "sizemode": "area",
            "sizeref": 442975.20661157026,
            "symbol": "circle"
           },
           "mode": "markers",
           "name": "Africa",
           "showlegend": true,
           "type": "scatter",
           "x": [
            4320,
            1730,
            11000,
            1130,
            728,
            1110,
            2810,
            2180,
            7660,
            2570,
            645,
            2300,
            1370,
            2070,
            813,
            1640,
            2760,
            4850,
            663,
            6720,
            774,
            3570,
            1980,
            2430,
            607,
            10100,
            2490,
            6420,
            1140,
            2220,
            2710
           ],
           "xaxis": "x",
           "y": [
            12600,
            10200,
            1630,
            9390,
            37600,
            5070,
            6270,
            658,
            0.0145,
            1870,
            3440,
            14900,
            13900,
            10100,
            22700,
            6820,
            8260,
            0.363,
            24000,
            23000,
            7440,
            1980,
            35100,
            8820,
            1290,
            33.6,
            10100,
            1360,
            10200,
            34600,
            10500
           ],
           "yaxis": "y"
          },
          {
           "hoverlabel": {
            "namelength": 0
           },
           "hovertemplate": "<b>%{hovertext}</b><br><br>cont=Americas<br>year=2002<br>GDP/Capita=%{x}<br>Malaria Cases / 100000=%{y}<br>pop=%{marker.size}",
           "hovertext": [
            "Argentina",
            "Bolivia",
            "Brazil",
            "Colombia",
            "Costa Rica",
            "Dominican Republic",
            "Ecuador",
            "El Salvador",
            "Guatemala",
            "Honduras",
            "Nicaragua",
            "Panama",
            "Paraguay",
            "Venezuela"
           ],
           "ids": [
            "Argentina",
            "Bolivia",
            "Brazil",
            "Colombia",
            "Costa Rica",
            "Dominican Republic",
            "Ecuador",
            "El Salvador",
            "Guatemala",
            "Honduras",
            "Nicaragua",
            "Panama",
            "Paraguay",
            "Venezuela"
           ],
           "legendgroup": "Americas",
           "marker": {
            "color": "#EF553B",
            "size": [
             37700000,
             8740000,
             180000000,
             40900000,
             4100000,
             8720000,
             13100000,
             5960000,
             12200000,
             6930000,
             5220000,
             3150000,
             5530000,
             25100000
            ],
            "sizemode": "area",
            "sizeref": 442975.20661157026,
            "symbol": "circle"
           },
           "mode": "markers",
           "name": "Americas",
           "showlegend": true,
           "type": "scatter",
           "x": [
            12500,
            4390,
            11600,
            8500,
            10100,
            8620,
            7690,
            5680,
            6160,
            3340,
            3440,
            10500,
            7620,
            13300
           ],
           "xaxis": "x",
           "y": [
            0.332,
            1590,
            194,
            455,
            24.9,
            14.3,
            687,
            1.83,
            301,
            267,
            146,
            71.9,
            49.9,
            116
           ],
           "yaxis": "y"
          },
          {
           "hoverlabel": {
            "namelength": 0
           },
           "hovertemplate": "<b>%{hovertext}</b><br><br>cont=Asia<br>year=2002<br>GDP/Capita=%{x}<br>Malaria Cases / 100000=%{y}<br>pop=%{marker.size}",
           "hovertext": [
            "Bangladesh",
            "Cambodia",
            "China",
            "India",
            "Indonesia",
            "Iran",
            "Iraq",
            "Malaysia",
            "Nepal",
            "Oman",
            "Pakistan",
            "Philippines",
            "Saudi Arabia",
            "Sri Lanka",
            "Syria",
            "Thailand",
            "Vietnam"
           ],
           "ids": [
            "Bangladesh",
            "Cambodia",
            "China",
            "India",
            "Indonesia",
            "Iran",
            "Iraq",
            "Malaysia",
            "Nepal",
            "Oman",
            "Pakistan",
            "Philippines",
            "Saudi Arabia",
            "Sri Lanka",
            "Syria",
            "Thailand",
            "Vietnam"
           ],
           "legendgroup": "Asia",
           "marker": {
            "color": "#00cc96",
            "size": [
             132000000,
             12600000,
             1310000000,
             1090000000,
             217000000,
             67300000,
             24900000,
             24200000,
             24700000,
             2330000,
             150000000,
             81400000,
             21800000,
             19100000,
             17100000,
             64100000,
             81500000
            ],
            "sizemode": "area",
            "sizeref": 442975.20661157026,
            "symbol": "circle"
           },
           "mode": "markers",
           "name": "Asia",
           "showlegend": true,
           "type": "scatter",
           "x": [
            1780,
            1530,
            4300,
            2850,
            6120,
            14000,
            11000,
            16500,
            1550,
            44100,
            3410,
            4320,
            39400,
            5590,
            5420,
            9920,
            2850
           ],
           "xaxis": "x",
           "y": [
            212,
            756,
            13.3,
            170,
            687,
            23.1,
            3.62,
            45.4,
            523,
            24.1,
            71.8,
            46.5,
            11.9,
            219,
            0.155,
            72.2,
            227
           ],
           "yaxis": "y"
          },
          {
           "hoverlabel": {
            "namelength": 0
           },
           "hovertemplate": "<b>%{hovertext}</b><br><br>cont=Europe<br>year=2002<br>GDP/Capita=%{x}<br>Malaria Cases / 100000=%{y}<br>pop=%{marker.size}",
           "hovertext": [
            "Turkey"
           ],
           "ids": [
            "Turkey"
           ],
           "legendgroup": "Europe",
           "marker": {
            "color": "#ab63fa",
            "size": [
             65100000
            ],
            "sizemode": "area",
            "sizeref": 442975.20661157026,
            "symbol": "circle"
           },
           "mode": "markers",
           "name": "Europe",
           "showlegend": true,
           "type": "scatter",
           "x": [
            13500
           ],
           "xaxis": "x",
           "y": [
            14.6
           ],
           "yaxis": "y"
          }
         ],
         "name": "2002"
        },
        {
         "data": [
          {
           "hoverlabel": {
            "namelength": 0
           },
           "hovertemplate": "<b>%{hovertext}</b><br><br>cont=Africa<br>year=2003<br>GDP/Capita=%{x}<br>Malaria Cases / 100000=%{y}<br>pop=%{marker.size}",
           "hovertext": [
            "Angola",
            "Benin",
            "Botswana",
            "Burkina Faso",
            "Burundi",
            "Chad",
            "Cote d'Ivoire",
            "Djibouti",
            "Egypt",
            "Eritrea",
            "Ethiopia",
            "Ghana",
            "Guinea-Bissau",
            "Kenya",
            "Malawi",
            "Mali",
            "Mauritania",
            "Morocco",
            "Mozambique",
            "Namibia",
            "Niger",
            "Nigeria",
            "Sao Tome and Principe",
            "Senegal",
            "Somalia",
            "South Africa",
            "Sudan",
            "Swaziland",
            "Togo",
            "Zambia",
            "Zimbabwe"
           ],
           "ids": [
            "Angola",
            "Benin",
            "Botswana",
            "Burkina Faso",
            "Burundi",
            "Chad",
            "Cote d'Ivoire",
            "Djibouti",
            "Egypt",
            "Eritrea",
            "Ethiopia",
            "Ghana",
            "Guinea-Bissau",
            "Kenya",
            "Malawi",
            "Mali",
            "Mauritania",
            "Morocco",
            "Mozambique",
            "Namibia",
            "Niger",
            "Nigeria",
            "Sao Tome and Principe",
            "Senegal",
            "Somalia",
            "South Africa",
            "Sudan",
            "Swaziland",
            "Togo",
            "Zambia",
            "Zimbabwe"
           ],
           "legendgroup": "Africa",
           "marker": {
            "color": "#636efa",
            "size": [
             18100000,
             7520000,
             1730000,
             12700000,
             6910000,
             9370000,
             17600000,
             760000,
             72800000,
             2600000,
             72200000,
             20800000,
             1280000,
             34700000,
             12000000,
             12000000,
             2860000,
             29800000,
             19300000,
             1880000,
             12600000,
             132000000,
             150000,
             10500000,
             9820000,
             46700000,
             29500000,
             1020000,
             5330000,
             11300000,
             12000000
            ],
            "sizemode": "area",
            "sizeref": 442975.20661157026,
            "symbol": "circle"
           },
           "mode": "markers",
           "name": "Africa",
           "showlegend": true,
           "type": "scatter",
           "x": [
            4300,
            1740,
            11300,
            1180,
            698,
            1230,
            2710,
            2210,
            7760,
            2390,
            613,
            2360,
            1340,
            2080,
            839,
            1740,
            2840,
            5080,
            686,
            6900,
            786,
            3730,
            2070,
            2520,
            611,
            10200,
            2610,
            6640,
            1170,
            2320,
            2240
           ],
           "xaxis": "x",
           "y": [
            21400,
            10300,
            13200,
            11000,
            31000,
            4900,
            6320,
            648,
            0.064,
            1570,
            4190,
            16500,
            13000,
            15100,
            26700,
            7410,
            11400,
            0.245,
            24800,
            23800,
            5510,
            1940,
            32400,
            12700,
            302,
            28.6,
            10500,
            1040,
            8300,
            39300,
            14100
           ],
           "yaxis": "y"
          },
          {
           "hoverlabel": {
            "namelength": 0
           },
           "hovertemplate": "<b>%{hovertext}</b><br><br>cont=Americas<br>year=2003<br>GDP/Capita=%{x}<br>Malaria Cases / 100000=%{y}<br>pop=%{marker.size}",
           "hovertext": [
            "Argentina",
            "Bolivia",
            "Brazil",
            "Colombia",
            "Costa Rica",
            "Dominican Republic",
            "Ecuador",
            "El Salvador",
            "Guatemala",
            "Honduras",
            "Nicaragua",
            "Panama",
            "Paraguay",
            "Venezuela"
           ],
           "ids": [
            "Argentina",
            "Bolivia",
            "Brazil",
            "Colombia",
            "Costa Rica",
            "Dominican Republic",
            "Ecuador",
            "El Salvador",
            "Guatemala",
            "Honduras",
            "Nicaragua",
            "Panama",
            "Paraguay",
            "Venezuela"
           ],
           "legendgroup": "Americas",
           "marker": {
            "color": "#EF553B",
            "size": [
             38100000,
             8910000,
             182000000,
             41500000,
             4160000,
             8850000,
             13400000,
             5990000,
             12500000,
             7110000,
             5290000,
             3210000,
             5630000,
             25600000
            ],
            "sizemode": "area",
            "sizeref": 442975.20661157026,
            "symbol": "circle"
           },
           "mode": "markers",
           "name": "Americas",
           "showlegend": true,
           "type": "scatter",
           "x": [
            13400,
            4420,
            11600,
            8710,
            10400,
            8380,
            7760,
            5740,
            6170,
            3410,
            3480,
            10800,
            7800,
            12000
           ],
           "xaxis": "x",
           "y": [
            0.321,
            1790,
            225,
            377,
            17.2,
            14.1,
            408,
            1.29,
            257,
            215,
            126,
            144,
            24.5,
            123
           ],
           "yaxis": "y"
          },
          {
           "hoverlabel": {
            "namelength": 0
           },
           "hovertemplate": "<b>%{hovertext}</b><br><br>cont=Asia<br>year=2003<br>GDP/Capita=%{x}<br>Malaria Cases / 100000=%{y}<br>pop=%{marker.size}",
           "hovertext": [
            "Bangladesh",
            "Cambodia",
            "China",
            "India",
            "Indonesia",
            "Iran",
            "Iraq",
            "Malaysia",
            "Nepal",
            "Oman",
            "Pakistan",
            "Philippines",
            "Saudi Arabia",
            "Sri Lanka",
            "Syria",
            "Thailand",
            "Vietnam"
           ],
           "ids": [
            "Bangladesh",
            "Cambodia",
            "China",
            "India",
            "Indonesia",
            "Iran",
            "Iraq",
            "Malaysia",
            "Nepal",
            "Oman",
            "Pakistan",
            "Philippines",
            "Saudi Arabia",
            "Sri Lanka",
            "Syria",
            "Thailand",
            "Vietnam"
           ],
           "legendgroup": "Asia",
           "marker": {
            "color": "#00cc96",
            "size": [
             135000000,
             12900000,
             1320000000,
             1110000000,
             220000000,
             68100000,
             25600000,
             24700000,
             25100000,
             2390000,
             153000000,
             83100000,
             22500000,
             19200000,
             17400000,
             64500000,
             82300000
            ],
            "sizemode": "area",
            "sizeref": 442975.20661157026,
            "symbol": "circle"
           },
           "mode": "markers",
           "name": "Asia",
           "showlegend": true,
           "type": "scatter",
           "x": [
            1830,
            1630,
            4710,
            3020,
            6330,
            15000,
            7130,
            17200,
            1590,
            42000,
            3490,
            4440,
            42500,
            5870,
            5220,
            10500,
            3020
           ],
           "xaxis": "x",
           "y": [
            333,
            888,
            13,
            170,
            672,
            34.6,
            1.29,
            25.6,
            756,
            30.1,
            82,
            59.7,
            7.67,
            55.4,
            0.134,
            60.1,
            199
           ],
           "yaxis": "y"
          },
          {
           "hoverlabel": {
            "namelength": 0
           },
           "hovertemplate": "<b>%{hovertext}</b><br><br>cont=Europe<br>year=2003<br>GDP/Capita=%{x}<br>Malaria Cases / 100000=%{y}<br>pop=%{marker.size}",
           "hovertext": [
            "Turkey"
           ],
           "ids": [
            "Turkey"
           ],
           "legendgroup": "Europe",
           "marker": {
            "color": "#ab63fa",
            "size": [
             66100000
            ],
            "sizemode": "area",
            "sizeref": 442975.20661157026,
            "symbol": "circle"
           },
           "mode": "markers",
           "name": "Europe",
           "showlegend": true,
           "type": "scatter",
           "x": [
            14000
           ],
           "xaxis": "x",
           "y": [
            13
           ],
           "yaxis": "y"
          }
         ],
         "name": "2003"
        },
        {
         "data": [
          {
           "hoverlabel": {
            "namelength": 0
           },
           "hovertemplate": "<b>%{hovertext}</b><br><br>cont=Africa<br>year=2004<br>GDP/Capita=%{x}<br>Malaria Cases / 100000=%{y}<br>pop=%{marker.size}",
           "hovertext": [
            "Angola",
            "Benin",
            "Botswana",
            "Burkina Faso",
            "Burundi",
            "Chad",
            "Cote d'Ivoire",
            "Djibouti",
            "Egypt",
            "Eritrea",
            "Ethiopia",
            "Ghana",
            "Guinea-Bissau",
            "Kenya",
            "Malawi",
            "Mali",
            "Mauritania",
            "Morocco",
            "Mozambique",
            "Namibia",
            "Niger",
            "Nigeria",
            "Sao Tome and Principe",
            "Senegal",
            "Somalia",
            "South Africa",
            "Sudan",
            "Swaziland",
            "Togo",
            "Zambia",
            "Zimbabwe"
           ],
           "ids": [
            "Angola",
            "Benin",
            "Botswana",
            "Burkina Faso",
            "Burundi",
            "Chad",
            "Cote d'Ivoire",
            "Djibouti",
            "Egypt",
            "Eritrea",
            "Ethiopia",
            "Ghana",
            "Guinea-Bissau",
            "Kenya",
            "Malawi",
            "Mali",
            "Mauritania",
            "Morocco",
            "Mozambique",
            "Namibia",
            "Niger",
            "Nigeria",
            "Sao Tome and Principe",
            "Senegal",
            "Somalia",
            "South Africa",
            "Sudan",
            "Swaziland",
            "Togo",
            "Zambia",
            "Zimbabwe"
           ],
           "legendgroup": "Africa",
           "marker": {
            "color": "#636efa",
            "size": [
             18800000,
             7750000,
             1770000,
             13000000,
             7130000,
             9730000,
             18000000,
             772000,
             74200000,
             2720000,
             74200000,
             21300000,
             1310000,
             35600000,
             12300000,
             12400000,
             2940000,
             30100000,
             19900000,
             1910000,
             13100000,
             135000000,
             154000,
             10800000,
             10100000,
             47300000,
             30200000,
             1030000,
             5470000,
             11600000,
             12000000
            ],
            "sizemode": "area",
            "sizeref": 442975.20661157026,
            "symbol": "circle"
           },
           "mode": "markers",
           "name": "Africa",
           "showlegend": true,
           "type": "scatter",
           "x": [
            4610,
            1760,
            11400,
            1200,
            709,
            1580,
            2690,
            2260,
            7930,
            2320,
            677,
            2430,
            1350,
            2120,
            862,
            1710,
            2920,
            5260,
            718,
            7630,
            758,
            3970,
            2110,
            2610,
            614,
            10600,
            2630,
            6860,
            1160,
            2420,
            2100
           ],
           "xaxis": "x",
           "y": [
            15900,
            10400,
            1230,
            11500,
            23100,
            4030,
            6980,
            271,
            0.0601,
            638,
            7410,
            15500,
            10500,
            21800,
            22300,
            17500,
            7800,
            0.18600000000000003,
            28000,
            30600,
            5940,
            2400,
            35900,
            10400,
            462,
            28.2,
            7190,
            851,
            8520,
            36200,
            13900
           ],
           "yaxis": "y"
          },
          {
           "hoverlabel": {
            "namelength": 0
           },
           "hovertemplate": "<b>%{hovertext}</b><br><br>cont=Americas<br>year=2004<br>GDP/Capita=%{x}<br>Malaria Cases / 100000=%{y}<br>pop=%{marker.size}",
           "hovertext": [
            "Argentina",
            "Bolivia",
            "Brazil",
            "Colombia",
            "Costa Rica",
            "Dominican Republic",
            "Ecuador",
            "El Salvador",
            "Guatemala",
            "Honduras",
            "Nicaragua",
            "Panama",
            "Paraguay",
            "Venezuela"
           ],
           "ids": [
            "Argentina",
            "Bolivia",
            "Brazil",
            "Colombia",
            "Costa Rica",
            "Dominican Republic",
            "Ecuador",
            "El Salvador",
            "Guatemala",
            "Honduras",
            "Nicaragua",
            "Panama",
            "Paraguay",
            "Venezuela"
           ],
           "legendgroup": "Americas",
           "marker": {
            "color": "#EF553B",
            "size": [
             38500000,
             9070000,
             184000000,
             42100000,
             4230000,
             8970000,
             13600000,
             6020000,
             12800000,
             7280000,
             5360000,
             3270000,
             5730000,
             26000000
            ],
            "sizemode": "area",
            "sizeref": 442975.20661157026,
            "symbol": "circle"
           },
           "mode": "markers",
           "name": "Americas",
           "showlegend": true,
           "type": "scatter",
           "x": [
            14500,
            4520,
            12100,
            9040,
            10700,
            8480,
            8260,
            5760,
            6210,
            3530,
            3620,
            11300,
            7980,
            14000
           ],
           "xaxis": "x",
           "y": [
            0.3,
            1810,
            252,
            264,
            30.3,
            25.3,
            222,
            1.7,
            234,
            258,
            128,
            161,
            12,
            178
           ],
           "yaxis": "y"
          },
          {
           "hoverlabel": {
            "namelength": 0
           },
           "hovertemplate": "<b>%{hovertext}</b><br><br>cont=Asia<br>year=2004<br>GDP/Capita=%{x}<br>Malaria Cases / 100000=%{y}<br>pop=%{marker.size}",
           "hovertext": [
            "Bangladesh",
            "Cambodia",
            "China",
            "India",
            "Indonesia",
            "Iran",
            "Iraq",
            "Malaysia",
            "Nepal",
            "Oman",
            "Pakistan",
            "Philippines",
            "Saudi Arabia",
            "Sri Lanka",
            "Syria",
            "Thailand",
            "Vietnam"
           ],
           "ids": [
            "Bangladesh",
            "Cambodia",
            "China",
            "India",
            "Indonesia",
            "Iran",
            "Iraq",
            "Malaysia",
            "Nepal",
            "Oman",
            "Pakistan",
            "Philippines",
            "Saudi Arabia",
            "Sri Lanka",
            "Syria",
            "Thailand",
            "Vietnam"
           ],
           "legendgroup": "Asia",
           "marker": {
            "color": "#00cc96",
            "size": [
             137000000,
             13100000,
             1320000000,
             1130000000,
             223000000,
             69000000,
             26300000,
             25200000,
             25400000,
             2450000,
             157000000,
             84700000,
             23100000,
             19400000,
             17800000,
             65000000,
             83100000
            ],
            "sizemode": "area",
            "sizeref": 442975.20661157026,
            "symbol": "circle"
           },
           "mode": "markers",
           "name": "Asia",
           "showlegend": true,
           "type": "scatter",
           "x": [
            1900,
            1770,
            5150,
            3210,
            6560,
            15500,
            10700,
            18000,
            1640,
            41500,
            3660,
            4650,
            44600,
            6140,
            5460,
            11100,
            3210
           ],
           "xaxis": "x",
           "y": [
            143,
            670,
            11.1,
            172,
            670,
            20.1,
            0.565,
            24.4,
            530,
            24.8,
            81.6,
            61.4,
            5.35,
            19.5,
            0.0707,
            42.7,
            153
           ],
           "yaxis": "y"
          },
          {
           "hoverlabel": {
            "namelength": 0
           },
           "hovertemplate": "<b>%{hovertext}</b><br><br>cont=Europe<br>year=2004<br>GDP/Capita=%{x}<br>Malaria Cases / 100000=%{y}<br>pop=%{marker.size}",
           "hovertext": [
            "Turkey"
           ],
           "ids": [
            "Turkey"
           ],
           "legendgroup": "Europe",
           "marker": {
            "color": "#ab63fa",
            "size": [
             67000000
            ],
            "sizemode": "area",
            "sizeref": 442975.20661157026,
            "symbol": "circle"
           },
           "mode": "markers",
           "name": "Europe",
           "showlegend": true,
           "type": "scatter",
           "x": [
            15200
           ],
           "xaxis": "x",
           "y": [
            7.34
           ],
           "yaxis": "y"
          }
         ],
         "name": "2004"
        },
        {
         "data": [
          {
           "hoverlabel": {
            "namelength": 0
           },
           "hovertemplate": "<b>%{hovertext}</b><br><br>cont=Africa<br>year=2005<br>GDP/Capita=%{x}<br>Malaria Cases / 100000=%{y}<br>pop=%{marker.size}",
           "hovertext": [
            "Angola",
            "Benin",
            "Botswana",
            "Burkina Faso",
            "Burundi",
            "Chad",
            "Cote d'Ivoire",
            "Djibouti",
            "Egypt",
            "Eritrea",
            "Ethiopia",
            "Ghana",
            "Guinea-Bissau",
            "Kenya",
            "Malawi",
            "Mali",
            "Mauritania",
            "Morocco",
            "Mozambique",
            "Namibia",
            "Niger",
            "Nigeria",
            "Sao Tome and Principe",
            "Senegal",
            "Somalia",
            "South Africa",
            "Sudan",
            "Swaziland",
            "Togo",
            "Zambia",
            "Zimbabwe"
           ],
           "ids": [
            "Angola",
            "Benin",
            "Botswana",
            "Burkina Faso",
            "Burundi",
            "Chad",
            "Cote d'Ivoire",
            "Djibouti",
            "Egypt",
            "Eritrea",
            "Ethiopia",
            "Ghana",
            "Guinea-Bissau",
            "Kenya",
            "Malawi",
            "Mali",
            "Mauritania",
            "Morocco",
            "Mozambique",
            "Namibia",
            "Niger",
            "Nigeria",
            "Sao Tome and Principe",
            "Senegal",
            "Somalia",
            "South Africa",
            "Sudan",
            "Swaziland",
            "Togo",
            "Zambia",
            "Zimbabwe"
           ],
           "legendgroup": "Africa",
           "marker": {
            "color": "#636efa",
            "size": [
             19400000,
             7980000,
             1800000,
             13400000,
             7360000,
             10100000,
             18400000,
             783000,
             75500000,
             2830000,
             76300000,
             21800000,
             1340000,
             36600000,
             12600000,
             12800000,
             3020000,
             30500000,
             20500000,
             1940000,
             13600000,
             139000000,
             157000,
             11100000,
             10400000,
             47900000,
             30900000,
             1030000,
             5610000,
             11900000,
             12100000
            ],
            "sizemode": "area",
            "sizeref": 442975.20661157026,
            "symbol": "circle"
           },
           "mode": "markers",
           "name": "Africa",
           "showlegend": true,
           "type": "scatter",
           "x": [
            5110,
            1740,
            11700,
            1270,
            693,
            1790,
            2680,
            2290,
            8140,
            2290,
            736,
            2510,
            1370,
            2190,
            868,
            1760,
            3090,
            5370,
            758,
            7700,
            763,
            4120,
            2200,
            2680,
            616,
            11000,
            2750,
            7240,
            1150,
            2520,
            1980
           ],
           "xaxis": "x",
           "y": [
            14500,
            9460,
            612,
            11600,
            30100,
            3930,
            6890,
            322,
            0.0316,
            534,
            4260,
            15300,
            11600,
            25800,
            27900,
            8290,
            7540,
            0.32799999999999996,
            28700,
            16800,
            6170,
            2500,
            14700,
            11400,
            348,
            16.2,
            7730,
            790,
            7020,
            35900,
            11400
           ],
           "yaxis": "y"
          },
          {
           "hoverlabel": {
            "namelength": 0
           },
           "hovertemplate": "<b>%{hovertext}</b><br><br>cont=Americas<br>year=2005<br>GDP/Capita=%{x}<br>Malaria Cases / 100000=%{y}<br>pop=%{marker.size}",
           "hovertext": [
            "Argentina",
            "Bolivia",
            "Brazil",
            "Colombia",
            "Costa Rica",
            "Dominican Republic",
            "Ecuador",
            "El Salvador",
            "Guatemala",
            "Honduras",
            "Nicaragua",
            "Panama",
            "Paraguay",
            "Venezuela"
           ],
           "ids": [
            "Argentina",
            "Bolivia",
            "Brazil",
            "Colombia",
            "Costa Rica",
            "Dominican Republic",
            "Ecuador",
            "El Salvador",
            "Guatemala",
            "Honduras",
            "Nicaragua",
            "Panama",
            "Paraguay",
            "Venezuela"
           ],
           "legendgroup": "Americas",
           "marker": {
            "color": "#EF553B",
            "size": [
             38900000,
             9230000,
             186000000,
             42600000,
             4290000,
             9100000,
             13800000,
             6050000,
             13100000,
             7460000,
             5440000,
             3330000,
             5820000,
             26400000
            ],
            "sizemode": "area",
            "sizeref": 442975.20661157026,
            "symbol": "circle"
           },
           "mode": "markers",
           "name": "Americas",
           "showlegend": true,
           "type": "scatter",
           "x": [
            15600,
            4640,
            12400,
            9340,
            10900,
            9150,
            8550,
            5890,
            6270,
            3660,
            3720,
            11900,
            8020,
            15100
           ],
           "xaxis": "x",
           "y": [
            0.6679999999999999,
            2200,
            323,
            263,
            81.8,
            40.5,
            131,
            0.99,
            311,
            234,
            122,
            114,
            6.37,
            169
           ],
           "yaxis": "y"
          },
          {
           "hoverlabel": {
            "namelength": 0
           },
           "hovertemplate": "<b>%{hovertext}</b><br><br>cont=Asia<br>year=2005<br>GDP/Capita=%{x}<br>Malaria Cases / 100000=%{y}<br>pop=%{marker.size}",
           "hovertext": [
            "Bangladesh",
            "Cambodia",
            "China",
            "India",
            "Indonesia",
            "Iran",
            "Iraq",
            "Malaysia",
            "Nepal",
            "Oman",
            "Pakistan",
            "Philippines",
            "Saudi Arabia",
            "Sri Lanka",
            "Syria",
            "Thailand",
            "Vietnam"
           ],
           "ids": [
            "Bangladesh",
            "Cambodia",
            "China",
            "India",
            "Indonesia",
            "Iran",
            "Iraq",
            "Malaysia",
            "Nepal",
            "Oman",
            "Pakistan",
            "Philippines",
            "Saudi Arabia",
            "Sri Lanka",
            "Syria",
            "Thailand",
            "Vietnam"
           ],
           "legendgroup": "Asia",
           "marker": {
            "color": "#00cc96",
            "size": [
             139000000,
             13300000,
             1330000000,
             1150000000,
             226000000,
             69800000,
             26900000,
             25700000,
             25700000,
             2510000,
             160000000,
             86300000,
             23800000,
             19500000,
             18400000,
             65400000,
             83800000
            ],
            "sizemode": "area",
            "sizeref": 442975.20661157026,
            "symbol": "circle"
           },
           "mode": "markers",
           "name": "Asia",
           "showlegend": true,
           "type": "scatter",
           "x": [
            1990,
            1970,
            5700,
            3410,
            6840,
            15800,
            10900,
            18600,
            1680,
            41500,
            3850,
            4780,
            45700,
            6470,
            5650,
            11500,
            3430
           ],
           "xaxis": "x",
           "y": [
            124,
            480,
            7.58,
            160,
            793,
            27.3,
            0.168,
            21.7,
            657,
            21.7,
            80.9,
            55,
            4.49,
            8.58,
            0.14800000000000002,
            47.3,
            117
           ],
           "yaxis": "y"
          },
          {
           "hoverlabel": {
            "namelength": 0
           },
           "hovertemplate": "<b>%{hovertext}</b><br><br>cont=Europe<br>year=2005<br>GDP/Capita=%{x}<br>Malaria Cases / 100000=%{y}<br>pop=%{marker.size}",
           "hovertext": [
            "Turkey"
           ],
           "ids": [
            "Turkey"
           ],
           "legendgroup": "Europe",
           "marker": {
            "color": "#ab63fa",
            "size": [
             67900000
            ],
            "sizemode": "area",
            "sizeref": 442975.20661157026,
            "symbol": "circle"
           },
           "mode": "markers",
           "name": "Europe",
           "showlegend": true,
           "type": "scatter",
           "x": [
            16300
           ],
           "xaxis": "x",
           "y": [
            2.81
           ],
           "yaxis": "y"
          }
         ],
         "name": "2005"
        },
        {
         "data": [
          {
           "hoverlabel": {
            "namelength": 0
           },
           "hovertemplate": "<b>%{hovertext}</b><br><br>cont=Africa<br>year=2006<br>GDP/Capita=%{x}<br>Malaria Cases / 100000=%{y}<br>pop=%{marker.size}",
           "hovertext": [
            "Angola",
            "Benin",
            "Botswana",
            "Burkina Faso",
            "Burundi",
            "Chad",
            "Cote d'Ivoire",
            "Djibouti",
            "Egypt",
            "Eritrea",
            "Ethiopia",
            "Ghana",
            "Guinea-Bissau",
            "Kenya",
            "Malawi",
            "Mali",
            "Mauritania",
            "Morocco",
            "Mozambique",
            "Namibia",
            "Niger",
            "Nigeria",
            "Sao Tome and Principe",
            "Senegal",
            "Somalia",
            "South Africa",
            "Sudan",
            "Swaziland",
            "Togo",
            "Zambia",
            "Zimbabwe"
           ],
           "ids": [
            "Angola",
            "Benin",
            "Botswana",
            "Burkina Faso",
            "Burundi",
            "Chad",
            "Cote d'Ivoire",
            "Djibouti",
            "Egypt",
            "Eritrea",
            "Ethiopia",
            "Ghana",
            "Guinea-Bissau",
            "Kenya",
            "Malawi",
            "Mali",
            "Mauritania",
            "Morocco",
            "Mozambique",
            "Namibia",
            "Niger",
            "Nigeria",
            "Sao Tome and Principe",
            "Senegal",
            "Somalia",
            "South Africa",
            "Sudan",
            "Swaziland",
            "Togo",
            "Zambia",
            "Zimbabwe"
           ],
           "legendgroup": "Africa",
           "marker": {
            "color": "#636efa",
            "size": [
             20100000,
             8220000,
             1840000,
             13800000,
             7610000,
             10500000,
             18800000,
             795000,
             76900000,
             2920000,
             78500000,
             22400000,
             1380000,
             37600000,
             13000000,
             13200000,
             3110000,
             30800000,
             21100000,
             1970000,
             14100000,
             143000000,
             162000,
             11400000,
             10800000,
             48500000,
             31700000,
             1040000,
             5760000,
             12200000,
             12200000
            ],
            "sizemode": "area",
            "sizeref": 442975.20661157026,
            "symbol": "circle"
           },
           "mode": "markers",
           "name": "Africa",
           "showlegend": true,
           "type": "scatter",
           "x": [
            5500,
            1750,
            12400,
            1310,
            707,
            1740,
            2660,
            2360,
            8540,
            2190,
            794,
            2600,
            1370,
            2270,
            884,
            1790,
            3570,
            5710,
            809,
            8110,
            777,
            4260,
            2340,
            2680,
            615,
            11500,
            2950,
            7630,
            1160,
            2650,
            1890
           ],
           "xaxis": "x",
           "y": [
            13800,
            9840,
            1020,
            14400,
            26500,
            3820,
            6630,
            942,
            0.0391,
            216,
            4640,
            15300,
            9040,
            21800,
            31000,
            8540,
            6180,
            0.26899999999999996,
            30200,
            13000,
            6450,
            2750,
            4700,
            12900,
            583,
            25.1,
            5930,
            331,
            8840,
            40500,
            11600
           ],
           "yaxis": "y"
          },
          {
           "hoverlabel": {
            "namelength": 0
           },
           "hovertemplate": "<b>%{hovertext}</b><br><br>cont=Americas<br>year=2006<br>GDP/Capita=%{x}<br>Malaria Cases / 100000=%{y}<br>pop=%{marker.size}",
           "hovertext": [
            "Argentina",
            "Bolivia",
            "Brazil",
            "Colombia",
            "Costa Rica",
            "Dominican Republic",
            "Ecuador",
            "El Salvador",
            "Guatemala",
            "Honduras",
            "Nicaragua",
            "Panama",
            "Paraguay",
            "Venezuela"
           ],
           "ids": [
            "Argentina",
            "Bolivia",
            "Brazil",
            "Colombia",
            "Costa Rica",
            "Dominican Republic",
            "Ecuador",
            "El Salvador",
            "Guatemala",
            "Honduras",
            "Nicaragua",
            "Panama",
            "Paraguay",
            "Venezuela"
           ],
           "legendgroup": "Americas",
           "marker": {
            "color": "#EF553B",
            "size": [
             39300000,
             9400000,
             188000000,
             43200000,
             4350000,
             9220000,
             14100000,
             6080000,
             13400000,
             7630000,
             5510000,
             3390000,
             5910000,
             26900000
            ],
            "sizemode": "area",
            "sizeref": 442975.20661157026,
            "symbol": "circle"
           },
           "mode": "markers",
           "name": "Americas",
           "showlegend": true,
           "type": "scatter",
           "x": [
            16700,
            4780,
            12700,
            9840,
            11600,
            9860,
            8780,
            6120,
            6460,
            3810,
            3820,
            12700,
            8280,
            16400
           ],
           "xaxis": "x",
           "y": [
            0.534,
            2230,
            290,
            264,
            66,
            36.7,
            74.7,
            0.6509999999999999,
            239,
            166,
            56.3,
            50.6,
            13.7,
            136
           ],
           "yaxis": "y"
          },
          {
           "hoverlabel": {
            "namelength": 0
           },
           "hovertemplate": "<b>%{hovertext}</b><br><br>cont=Asia<br>year=2006<br>GDP/Capita=%{x}<br>Malaria Cases / 100000=%{y}<br>pop=%{marker.size}",
           "hovertext": [
            "Bangladesh",
            "Cambodia",
            "China",
            "India",
            "Indonesia",
            "Iran",
            "Iraq",
            "Malaysia",
            "Nepal",
            "Oman",
            "Pakistan",
            "Philippines",
            "Saudi Arabia",
            "Sri Lanka",
            "Syria",
            "Thailand",
            "Vietnam"
           ],
           "ids": [
            "Bangladesh",
            "Cambodia",
            "China",
            "India",
            "Indonesia",
            "Iran",
            "Iraq",
            "Malaysia",
            "Nepal",
            "Oman",
            "Pakistan",
            "Philippines",
            "Saudi Arabia",
            "Sri Lanka",
            "Syria",
            "Thailand",
            "Vietnam"
           ],
           "legendgroup": "Asia",
           "marker": {
            "color": "#00cc96",
            "size": [
             141000000,
             13500000,
             1340000000,
             1170000000,
             229000000,
             70600000,
             27400000,
             26200000,
             26100000,
             2580000,
             164000000,
             87900000,
             24500000,
             19700000,
             19100000,
             65800000,
             84600000
            ],
            "sizemode": "area",
            "sizeref": 442975.20661157026,
            "symbol": "circle"
           },
           "mode": "markers",
           "name": "Asia",
           "showlegend": true,
           "type": "scatter",
           "x": [
            2100,
            2150,
            6390,
            3630,
            7120,
            16400,
            11800,
            19200,
            1710,
            42500,
            4000,
            4940,
            45700,
            6910,
            5750,
            12000,
            3630
           ],
           "xaxis": "x",
           "y": [
            232,
            628,
            8.75,
            155,
            580,
            22.6,
            0.0842,
            20.3,
            560,
            17.4,
            77.6,
            40.7,
            5.29,
            3.08,
            0.175,
            47.8,
            106
           ],
           "yaxis": "y"
          },
          {
           "hoverlabel": {
            "namelength": 0
           },
           "hovertemplate": "<b>%{hovertext}</b><br><br>cont=Europe<br>year=2006<br>GDP/Capita=%{x}<br>Malaria Cases / 100000=%{y}<br>pop=%{marker.size}",
           "hovertext": [
            "Turkey"
           ],
           "ids": [
            "Turkey"
           ],
           "legendgroup": "Europe",
           "marker": {
            "color": "#ab63fa",
            "size": [
             68800000
            ],
            "sizemode": "area",
            "sizeref": 442975.20661157026,
            "symbol": "circle"
           },
           "mode": "markers",
           "name": "Europe",
           "showlegend": true,
           "type": "scatter",
           "x": [
            17300
           ],
           "xaxis": "x",
           "y": [
            1.04
           ],
           "yaxis": "y"
          }
         ],
         "name": "2006"
        }
       ],
       "layout": {
        "legend": {
         "itemsizing": "constant",
         "title": {
          "text": "cont"
         },
         "tracegroupgap": 0
        },
        "margin": {
         "t": 60
        },
        "sliders": [
         {
          "active": 0,
          "currentvalue": {
           "prefix": "year="
          },
          "len": 0.9,
          "pad": {
           "b": 10,
           "t": 60
          },
          "steps": [
           {
            "args": [
             [
              "2000"
             ],
             {
              "frame": {
               "duration": 0,
               "redraw": false
              },
              "fromcurrent": true,
              "mode": "immediate",
              "transition": {
               "duration": 0,
               "easing": "linear"
              }
             }
            ],
            "label": "2000",
            "method": "animate"
           },
           {
            "args": [
             [
              "2001"
             ],
             {
              "frame": {
               "duration": 0,
               "redraw": false
              },
              "fromcurrent": true,
              "mode": "immediate",
              "transition": {
               "duration": 0,
               "easing": "linear"
              }
             }
            ],
            "label": "2001",
            "method": "animate"
           },
           {
            "args": [
             [
              "2002"
             ],
             {
              "frame": {
               "duration": 0,
               "redraw": false
              },
              "fromcurrent": true,
              "mode": "immediate",
              "transition": {
               "duration": 0,
               "easing": "linear"
              }
             }
            ],
            "label": "2002",
            "method": "animate"
           },
           {
            "args": [
             [
              "2003"
             ],
             {
              "frame": {
               "duration": 0,
               "redraw": false
              },
              "fromcurrent": true,
              "mode": "immediate",
              "transition": {
               "duration": 0,
               "easing": "linear"
              }
             }
            ],
            "label": "2003",
            "method": "animate"
           },
           {
            "args": [
             [
              "2004"
             ],
             {
              "frame": {
               "duration": 0,
               "redraw": false
              },
              "fromcurrent": true,
              "mode": "immediate",
              "transition": {
               "duration": 0,
               "easing": "linear"
              }
             }
            ],
            "label": "2004",
            "method": "animate"
           },
           {
            "args": [
             [
              "2005"
             ],
             {
              "frame": {
               "duration": 0,
               "redraw": false
              },
              "fromcurrent": true,
              "mode": "immediate",
              "transition": {
               "duration": 0,
               "easing": "linear"
              }
             }
            ],
            "label": "2005",
            "method": "animate"
           },
           {
            "args": [
             [
              "2006"
             ],
             {
              "frame": {
               "duration": 0,
               "redraw": false
              },
              "fromcurrent": true,
              "mode": "immediate",
              "transition": {
               "duration": 0,
               "easing": "linear"
              }
             }
            ],
            "label": "2006",
            "method": "animate"
           }
          ],
          "x": 0.1,
          "xanchor": "left",
          "y": 0,
          "yanchor": "top"
         }
        ],
        "template": {
         "data": {
          "bar": [
           {
            "error_x": {
             "color": "#2a3f5f"
            },
            "error_y": {
             "color": "#2a3f5f"
            },
            "marker": {
             "line": {
              "color": "#E5ECF6",
              "width": 0.5
             }
            },
            "type": "bar"
           }
          ],
          "barpolar": [
           {
            "marker": {
             "line": {
              "color": "#E5ECF6",
              "width": 0.5
             }
            },
            "type": "barpolar"
           }
          ],
          "carpet": [
           {
            "aaxis": {
             "endlinecolor": "#2a3f5f",
             "gridcolor": "white",
             "linecolor": "white",
             "minorgridcolor": "white",
             "startlinecolor": "#2a3f5f"
            },
            "baxis": {
             "endlinecolor": "#2a3f5f",
             "gridcolor": "white",
             "linecolor": "white",
             "minorgridcolor": "white",
             "startlinecolor": "#2a3f5f"
            },
            "type": "carpet"
           }
          ],
          "choropleth": [
           {
            "colorbar": {
             "outlinewidth": 0,
             "ticks": ""
            },
            "type": "choropleth"
           }
          ],
          "contour": [
           {
            "colorbar": {
             "outlinewidth": 0,
             "ticks": ""
            },
            "colorscale": [
             [
              0,
              "#0d0887"
             ],
             [
              0.1111111111111111,
              "#46039f"
             ],
             [
              0.2222222222222222,
              "#7201a8"
             ],
             [
              0.3333333333333333,
              "#9c179e"
             ],
             [
              0.4444444444444444,
              "#bd3786"
             ],
             [
              0.5555555555555556,
              "#d8576b"
             ],
             [
              0.6666666666666666,
              "#ed7953"
             ],
             [
              0.7777777777777778,
              "#fb9f3a"
             ],
             [
              0.8888888888888888,
              "#fdca26"
             ],
             [
              1,
              "#f0f921"
             ]
            ],
            "type": "contour"
           }
          ],
          "contourcarpet": [
           {
            "colorbar": {
             "outlinewidth": 0,
             "ticks": ""
            },
            "type": "contourcarpet"
           }
          ],
          "heatmap": [
           {
            "colorbar": {
             "outlinewidth": 0,
             "ticks": ""
            },
            "colorscale": [
             [
              0,
              "#0d0887"
             ],
             [
              0.1111111111111111,
              "#46039f"
             ],
             [
              0.2222222222222222,
              "#7201a8"
             ],
             [
              0.3333333333333333,
              "#9c179e"
             ],
             [
              0.4444444444444444,
              "#bd3786"
             ],
             [
              0.5555555555555556,
              "#d8576b"
             ],
             [
              0.6666666666666666,
              "#ed7953"
             ],
             [
              0.7777777777777778,
              "#fb9f3a"
             ],
             [
              0.8888888888888888,
              "#fdca26"
             ],
             [
              1,
              "#f0f921"
             ]
            ],
            "type": "heatmap"
           }
          ],
          "heatmapgl": [
           {
            "colorbar": {
             "outlinewidth": 0,
             "ticks": ""
            },
            "colorscale": [
             [
              0,
              "#0d0887"
             ],
             [
              0.1111111111111111,
              "#46039f"
             ],
             [
              0.2222222222222222,
              "#7201a8"
             ],
             [
              0.3333333333333333,
              "#9c179e"
             ],
             [
              0.4444444444444444,
              "#bd3786"
             ],
             [
              0.5555555555555556,
              "#d8576b"
             ],
             [
              0.6666666666666666,
              "#ed7953"
             ],
             [
              0.7777777777777778,
              "#fb9f3a"
             ],
             [
              0.8888888888888888,
              "#fdca26"
             ],
             [
              1,
              "#f0f921"
             ]
            ],
            "type": "heatmapgl"
           }
          ],
          "histogram": [
           {
            "marker": {
             "colorbar": {
              "outlinewidth": 0,
              "ticks": ""
             }
            },
            "type": "histogram"
           }
          ],
          "histogram2d": [
           {
            "colorbar": {
             "outlinewidth": 0,
             "ticks": ""
            },
            "colorscale": [
             [
              0,
              "#0d0887"
             ],
             [
              0.1111111111111111,
              "#46039f"
             ],
             [
              0.2222222222222222,
              "#7201a8"
             ],
             [
              0.3333333333333333,
              "#9c179e"
             ],
             [
              0.4444444444444444,
              "#bd3786"
             ],
             [
              0.5555555555555556,
              "#d8576b"
             ],
             [
              0.6666666666666666,
              "#ed7953"
             ],
             [
              0.7777777777777778,
              "#fb9f3a"
             ],
             [
              0.8888888888888888,
              "#fdca26"
             ],
             [
              1,
              "#f0f921"
             ]
            ],
            "type": "histogram2d"
           }
          ],
          "histogram2dcontour": [
           {
            "colorbar": {
             "outlinewidth": 0,
             "ticks": ""
            },
            "colorscale": [
             [
              0,
              "#0d0887"
             ],
             [
              0.1111111111111111,
              "#46039f"
             ],
             [
              0.2222222222222222,
              "#7201a8"
             ],
             [
              0.3333333333333333,
              "#9c179e"
             ],
             [
              0.4444444444444444,
              "#bd3786"
             ],
             [
              0.5555555555555556,
              "#d8576b"
             ],
             [
              0.6666666666666666,
              "#ed7953"
             ],
             [
              0.7777777777777778,
              "#fb9f3a"
             ],
             [
              0.8888888888888888,
              "#fdca26"
             ],
             [
              1,
              "#f0f921"
             ]
            ],
            "type": "histogram2dcontour"
           }
          ],
          "mesh3d": [
           {
            "colorbar": {
             "outlinewidth": 0,
             "ticks": ""
            },
            "type": "mesh3d"
           }
          ],
          "parcoords": [
           {
            "line": {
             "colorbar": {
              "outlinewidth": 0,
              "ticks": ""
             }
            },
            "type": "parcoords"
           }
          ],
          "pie": [
           {
            "automargin": true,
            "type": "pie"
           }
          ],
          "scatter": [
           {
            "marker": {
             "colorbar": {
              "outlinewidth": 0,
              "ticks": ""
             }
            },
            "type": "scatter"
           }
          ],
          "scatter3d": [
           {
            "line": {
             "colorbar": {
              "outlinewidth": 0,
              "ticks": ""
             }
            },
            "marker": {
             "colorbar": {
              "outlinewidth": 0,
              "ticks": ""
             }
            },
            "type": "scatter3d"
           }
          ],
          "scattercarpet": [
           {
            "marker": {
             "colorbar": {
              "outlinewidth": 0,
              "ticks": ""
             }
            },
            "type": "scattercarpet"
           }
          ],
          "scattergeo": [
           {
            "marker": {
             "colorbar": {
              "outlinewidth": 0,
              "ticks": ""
             }
            },
            "type": "scattergeo"
           }
          ],
          "scattergl": [
           {
            "marker": {
             "colorbar": {
              "outlinewidth": 0,
              "ticks": ""
             }
            },
            "type": "scattergl"
           }
          ],
          "scattermapbox": [
           {
            "marker": {
             "colorbar": {
              "outlinewidth": 0,
              "ticks": ""
             }
            },
            "type": "scattermapbox"
           }
          ],
          "scatterpolar": [
           {
            "marker": {
             "colorbar": {
              "outlinewidth": 0,
              "ticks": ""
             }
            },
            "type": "scatterpolar"
           }
          ],
          "scatterpolargl": [
           {
            "marker": {
             "colorbar": {
              "outlinewidth": 0,
              "ticks": ""
             }
            },
            "type": "scatterpolargl"
           }
          ],
          "scatterternary": [
           {
            "marker": {
             "colorbar": {
              "outlinewidth": 0,
              "ticks": ""
             }
            },
            "type": "scatterternary"
           }
          ],
          "surface": [
           {
            "colorbar": {
             "outlinewidth": 0,
             "ticks": ""
            },
            "colorscale": [
             [
              0,
              "#0d0887"
             ],
             [
              0.1111111111111111,
              "#46039f"
             ],
             [
              0.2222222222222222,
              "#7201a8"
             ],
             [
              0.3333333333333333,
              "#9c179e"
             ],
             [
              0.4444444444444444,
              "#bd3786"
             ],
             [
              0.5555555555555556,
              "#d8576b"
             ],
             [
              0.6666666666666666,
              "#ed7953"
             ],
             [
              0.7777777777777778,
              "#fb9f3a"
             ],
             [
              0.8888888888888888,
              "#fdca26"
             ],
             [
              1,
              "#f0f921"
             ]
            ],
            "type": "surface"
           }
          ],
          "table": [
           {
            "cells": {
             "fill": {
              "color": "#EBF0F8"
             },
             "line": {
              "color": "white"
             }
            },
            "header": {
             "fill": {
              "color": "#C8D4E3"
             },
             "line": {
              "color": "white"
             }
            },
            "type": "table"
           }
          ]
         },
         "layout": {
          "annotationdefaults": {
           "arrowcolor": "#2a3f5f",
           "arrowhead": 0,
           "arrowwidth": 1
          },
          "coloraxis": {
           "colorbar": {
            "outlinewidth": 0,
            "ticks": ""
           }
          },
          "colorscale": {
           "diverging": [
            [
             0,
             "#8e0152"
            ],
            [
             0.1,
             "#c51b7d"
            ],
            [
             0.2,
             "#de77ae"
            ],
            [
             0.3,
             "#f1b6da"
            ],
            [
             0.4,
             "#fde0ef"
            ],
            [
             0.5,
             "#f7f7f7"
            ],
            [
             0.6,
             "#e6f5d0"
            ],
            [
             0.7,
             "#b8e186"
            ],
            [
             0.8,
             "#7fbc41"
            ],
            [
             0.9,
             "#4d9221"
            ],
            [
             1,
             "#276419"
            ]
           ],
           "sequential": [
            [
             0,
             "#0d0887"
            ],
            [
             0.1111111111111111,
             "#46039f"
            ],
            [
             0.2222222222222222,
             "#7201a8"
            ],
            [
             0.3333333333333333,
             "#9c179e"
            ],
            [
             0.4444444444444444,
             "#bd3786"
            ],
            [
             0.5555555555555556,
             "#d8576b"
            ],
            [
             0.6666666666666666,
             "#ed7953"
            ],
            [
             0.7777777777777778,
             "#fb9f3a"
            ],
            [
             0.8888888888888888,
             "#fdca26"
            ],
            [
             1,
             "#f0f921"
            ]
           ],
           "sequentialminus": [
            [
             0,
             "#0d0887"
            ],
            [
             0.1111111111111111,
             "#46039f"
            ],
            [
             0.2222222222222222,
             "#7201a8"
            ],
            [
             0.3333333333333333,
             "#9c179e"
            ],
            [
             0.4444444444444444,
             "#bd3786"
            ],
            [
             0.5555555555555556,
             "#d8576b"
            ],
            [
             0.6666666666666666,
             "#ed7953"
            ],
            [
             0.7777777777777778,
             "#fb9f3a"
            ],
            [
             0.8888888888888888,
             "#fdca26"
            ],
            [
             1,
             "#f0f921"
            ]
           ]
          },
          "colorway": [
           "#636efa",
           "#EF553B",
           "#00cc96",
           "#ab63fa",
           "#FFA15A",
           "#19d3f3",
           "#FF6692",
           "#B6E880",
           "#FF97FF",
           "#FECB52"
          ],
          "font": {
           "color": "#2a3f5f"
          },
          "geo": {
           "bgcolor": "white",
           "lakecolor": "white",
           "landcolor": "#E5ECF6",
           "showlakes": true,
           "showland": true,
           "subunitcolor": "white"
          },
          "hoverlabel": {
           "align": "left"
          },
          "hovermode": "closest",
          "mapbox": {
           "style": "light"
          },
          "paper_bgcolor": "white",
          "plot_bgcolor": "#E5ECF6",
          "polar": {
           "angularaxis": {
            "gridcolor": "white",
            "linecolor": "white",
            "ticks": ""
           },
           "bgcolor": "#E5ECF6",
           "radialaxis": {
            "gridcolor": "white",
            "linecolor": "white",
            "ticks": ""
           }
          },
          "scene": {
           "xaxis": {
            "backgroundcolor": "#E5ECF6",
            "gridcolor": "white",
            "gridwidth": 2,
            "linecolor": "white",
            "showbackground": true,
            "ticks": "",
            "zerolinecolor": "white"
           },
           "yaxis": {
            "backgroundcolor": "#E5ECF6",
            "gridcolor": "white",
            "gridwidth": 2,
            "linecolor": "white",
            "showbackground": true,
            "ticks": "",
            "zerolinecolor": "white"
           },
           "zaxis": {
            "backgroundcolor": "#E5ECF6",
            "gridcolor": "white",
            "gridwidth": 2,
            "linecolor": "white",
            "showbackground": true,
            "ticks": "",
            "zerolinecolor": "white"
           }
          },
          "shapedefaults": {
           "line": {
            "color": "#2a3f5f"
           }
          },
          "ternary": {
           "aaxis": {
            "gridcolor": "white",
            "linecolor": "white",
            "ticks": ""
           },
           "baxis": {
            "gridcolor": "white",
            "linecolor": "white",
            "ticks": ""
           },
           "bgcolor": "#E5ECF6",
           "caxis": {
            "gridcolor": "white",
            "linecolor": "white",
            "ticks": ""
           }
          },
          "title": {
           "x": 0.05
          },
          "xaxis": {
           "automargin": true,
           "gridcolor": "white",
           "linecolor": "white",
           "ticks": "",
           "title": {
            "standoff": 15
           },
           "zerolinecolor": "white",
           "zerolinewidth": 2
          },
          "yaxis": {
           "automargin": true,
           "gridcolor": "white",
           "linecolor": "white",
           "ticks": "",
           "title": {
            "standoff": 15
           },
           "zerolinecolor": "white",
           "zerolinewidth": 2
          }
         }
        },
        "updatemenus": [
         {
          "buttons": [
           {
            "args": [
             null,
             {
              "frame": {
               "duration": 500,
               "redraw": false
              },
              "fromcurrent": true,
              "mode": "immediate",
              "transition": {
               "duration": 500,
               "easing": "linear"
              }
             }
            ],
            "label": "&#9654;",
            "method": "animate"
           },
           {
            "args": [
             [
              null
             ],
             {
              "frame": {
               "duration": 0,
               "redraw": false
              },
              "fromcurrent": true,
              "mode": "immediate",
              "transition": {
               "duration": 0,
               "easing": "linear"
              }
             }
            ],
            "label": "&#9724;",
            "method": "animate"
           }
          ],
          "direction": "left",
          "pad": {
           "r": 10,
           "t": 70
          },
          "showactive": false,
          "type": "buttons",
          "x": 0.1,
          "xanchor": "right",
          "y": 0,
          "yanchor": "top"
         }
        ],
        "xaxis": {
         "anchor": "y",
         "domain": [
          0,
          1
         ],
         "range": [
          0,
          20000
         ],
         "title": {
          "text": "GDP/Capita"
         }
        },
        "yaxis": {
         "anchor": "x",
         "domain": [
          0,
          1
         ],
         "range": [
          0,
          40000
         ],
         "title": {
          "text": "Malaria Cases / 100000"
         }
        }
       }
      },
      "text/html": [
       "<div>\n",
       "        \n",
       "        \n",
       "            <div id=\"a7a33171-18b9-4335-98f3-fb8df8485368\" class=\"plotly-graph-div\" style=\"height:525px; width:100%;\"></div>\n",
       "            <script type=\"text/javascript\">\n",
       "                require([\"plotly\"], function(Plotly) {\n",
       "                    window.PLOTLYENV=window.PLOTLYENV || {};\n",
       "                    \n",
       "                if (document.getElementById(\"a7a33171-18b9-4335-98f3-fb8df8485368\")) {\n",
       "                    Plotly.newPlot(\n",
       "                        'a7a33171-18b9-4335-98f3-fb8df8485368',\n",
       "                        [{\"hoverlabel\": {\"namelength\": 0}, \"hovertemplate\": \"<b>%{hovertext}</b><br><br>cont=Africa<br>year=2000<br>GDP/Capita=%{x}<br>Malaria Cases / 100000=%{y}<br>pop=%{marker.size}\", \"hovertext\": [\"Angola\", \"Benin\", \"Botswana\", \"Burkina Faso\", \"Burundi\", \"Chad\", \"Cote d'Ivoire\", \"Djibouti\", \"Egypt\", \"Eritrea\", \"Ethiopia\", \"Ghana\", \"Guinea-Bissau\", \"Kenya\", \"Malawi\", \"Mali\", \"Mauritania\", \"Morocco\", \"Mozambique\", \"Namibia\", \"Niger\", \"Nigeria\", \"Sao Tome and Principe\", \"Senegal\", \"Somalia\", \"South Africa\", \"Sudan\", \"Swaziland\", \"Togo\", \"Zambia\", \"Zimbabwe\"], \"ids\": [\"Angola\", \"Benin\", \"Botswana\", \"Burkina Faso\", \"Burundi\", \"Chad\", \"Cote d'Ivoire\", \"Djibouti\", \"Egypt\", \"Eritrea\", \"Ethiopia\", \"Ghana\", \"Guinea-Bissau\", \"Kenya\", \"Malawi\", \"Mali\", \"Mauritania\", \"Morocco\", \"Mozambique\", \"Namibia\", \"Niger\", \"Nigeria\", \"Sao Tome and Principe\", \"Senegal\", \"Somalia\", \"South Africa\", \"Sudan\", \"Swaziland\", \"Togo\", \"Zambia\", \"Zimbabwe\"], \"legendgroup\": \"Africa\", \"marker\": {\"color\": \"#636efa\", \"size\": [16400000, 6870000, 1640000, 11600000, 6380000, 8360000, 16500000, 718000, 68800000, 2290000, 66200000, 19300000, 1200000, 32000000, 11100000, 10900000, 2630000, 28800000, 17700000, 1790000, 11300000, 122000000, 142000, 9800000, 8870000, 45000000, 27300000, 1010000, 4920000, 10400000, 11900000], \"sizemode\": \"area\", \"sizeref\": 442975.20661157026, \"symbol\": \"circle\"}, \"mode\": \"markers\", \"name\": \"Africa\", \"showlegend\": true, \"type\": \"scatter\", \"x\": [3890, 1670, 10700, 1080, 718, 992, 2990, 2160, 7500, 2490, 621, 2220, 1410, 2100, 884, 1470, 2830, 4490, 573, 6540, 755, 3070, 1960, 2420, 603, 9700, 2320, 6170, 1240, 2130, 2950], \"xaxis\": \"x\", \"y\": [11700.0, 9790.0, 4130.0, 8690.0, 45900.0, 4360.0, 8750.0, 640.0, 0.0255, 3230.0, 553.0, 16600.0, 18000.0, 237.0, 32500.0, 5460.0, 10100.0, 0.205, 18000.0, 27600.0, 5810.0, 1990.0, 31000.0, 10800.0, 147.0, 142.0, 13000.0, 4310.0, 7370.0, 34500.0, 12100.0], \"yaxis\": \"y\"}, {\"hoverlabel\": {\"namelength\": 0}, \"hovertemplate\": \"<b>%{hovertext}</b><br><br>cont=Americas<br>year=2000<br>GDP/Capita=%{x}<br>Malaria Cases / 100000=%{y}<br>pop=%{marker.size}\", \"hovertext\": [\"Argentina\", \"Bolivia\", \"Brazil\", \"Colombia\", \"Costa Rica\", \"Dominican Republic\", \"Ecuador\", \"El Salvador\", \"Guatemala\", \"Honduras\", \"Nicaragua\", \"Panama\", \"Paraguay\", \"Venezuela\"], \"ids\": [\"Argentina\", \"Bolivia\", \"Brazil\", \"Colombia\", \"Costa Rica\", \"Dominican Republic\", \"Ecuador\", \"El Salvador\", \"Guatemala\", \"Honduras\", \"Nicaragua\", \"Panama\", \"Paraguay\", \"Venezuela\"], \"legendgroup\": \"Americas\", \"marker\": {\"color\": \"#EF553B\", \"size\": [36900000, 8420000, 175000000, 39600000, 3960000, 8470000, 12700000, 5890000, 11700000, 6570000, 5070000, 3030000, 5320000, 24200000], \"sizemode\": \"area\", \"sizeref\": 442975.20661157026, \"symbol\": \"circle\"}, \"mode\": \"markers\", \"name\": \"Americas\", \"showlegend\": true, \"type\": \"scatter\", \"x\": [15000, 4370, 11400, 8410, 9790, 8290, 7360, 5610, 6070, 3300, 3420, 10600, 7980, 14600], \"xaxis\": \"x\", \"y\": [1.19, 378.0, 351.0, 258.0, 47.8, 13.9, 801.0, 12.0, 475.0, 567.0, 470.0, 35.1, 128.0, 122.0], \"yaxis\": \"y\"}, {\"hoverlabel\": {\"namelength\": 0}, \"hovertemplate\": \"<b>%{hovertext}</b><br><br>cont=Asia<br>year=2000<br>GDP/Capita=%{x}<br>Malaria Cases / 100000=%{y}<br>pop=%{marker.size}\", \"hovertext\": [\"Bangladesh\", \"Cambodia\", \"China\", \"India\", \"Indonesia\", \"Iran\", \"Iraq\", \"Malaysia\", \"Nepal\", \"Oman\", \"Pakistan\", \"Philippines\", \"Saudi Arabia\", \"Sri Lanka\", \"Syria\", \"Thailand\", \"Vietnam\"], \"ids\": [\"Bangladesh\", \"Cambodia\", \"China\", \"India\", \"Indonesia\", \"Iran\", \"Iraq\", \"Malaysia\", \"Nepal\", \"Oman\", \"Pakistan\", \"Philippines\", \"Saudi Arabia\", \"Sri Lanka\", \"Syria\", \"Thailand\", \"Vietnam\"], \"legendgroup\": \"Asia\", \"marker\": {\"color\": \"#00cc96\", \"size\": [128000000, 12200000, 1290000000, 1060000000, 212000000, 65600000, 23500000, 23200000, 23900000, 2270000, 142000000, 78000000, 20700000, 18800000, 16400000, 63000000, 79900000], \"sizemode\": \"area\", \"sizeref\": 442975.20661157026, \"symbol\": \"circle\"}, \"mode\": \"markers\", \"name\": \"Asia\", \"showlegend\": true, \"type\": \"scatter\", \"x\": [1690, 1390, 3690, 2710, 5810, 13200, 12200, 16300, 1530, 44000, 3400, 4220, 43300, 5540, 5130, 9190, 2570], \"xaxis\": \"x\", \"y\": [43.3, 489.0, 1.46, 194.0, 47.8, 29.8, 7.42, 54.6, 31.2, 28.9, 57.2, 48.0, 31.8, 1120.0, 0.254, 135.0, 94.0], \"yaxis\": \"y\"}, {\"hoverlabel\": {\"namelength\": 0}, \"hovertemplate\": \"<b>%{hovertext}</b><br><br>cont=Europe<br>year=2000<br>GDP/Capita=%{x}<br>Malaria Cases / 100000=%{y}<br>pop=%{marker.size}\", \"hovertext\": [\"Turkey\"], \"ids\": [\"Turkey\"], \"legendgroup\": \"Europe\", \"marker\": {\"color\": \"#ab63fa\", \"size\": [63200000], \"sizemode\": \"area\", \"sizeref\": 442975.20661157026, \"symbol\": \"circle\"}, \"mode\": \"markers\", \"name\": \"Europe\", \"showlegend\": true, \"type\": \"scatter\", \"x\": [13900], \"xaxis\": \"x\", \"y\": [16.8], \"yaxis\": \"y\"}],\n",
       "                        {\"legend\": {\"itemsizing\": \"constant\", \"title\": {\"text\": \"cont\"}, \"tracegroupgap\": 0}, \"margin\": {\"t\": 60}, \"sliders\": [{\"active\": 0, \"currentvalue\": {\"prefix\": \"year=\"}, \"len\": 0.9, \"pad\": {\"b\": 10, \"t\": 60}, \"steps\": [{\"args\": [[\"2000\"], {\"frame\": {\"duration\": 0, \"redraw\": false}, \"fromcurrent\": true, \"mode\": \"immediate\", \"transition\": {\"duration\": 0, \"easing\": \"linear\"}}], \"label\": \"2000\", \"method\": \"animate\"}, {\"args\": [[\"2001\"], {\"frame\": {\"duration\": 0, \"redraw\": false}, \"fromcurrent\": true, \"mode\": \"immediate\", \"transition\": {\"duration\": 0, \"easing\": \"linear\"}}], \"label\": \"2001\", \"method\": \"animate\"}, {\"args\": [[\"2002\"], {\"frame\": {\"duration\": 0, \"redraw\": false}, \"fromcurrent\": true, \"mode\": \"immediate\", \"transition\": {\"duration\": 0, \"easing\": \"linear\"}}], \"label\": \"2002\", \"method\": \"animate\"}, {\"args\": [[\"2003\"], {\"frame\": {\"duration\": 0, \"redraw\": false}, \"fromcurrent\": true, \"mode\": \"immediate\", \"transition\": {\"duration\": 0, \"easing\": \"linear\"}}], \"label\": \"2003\", \"method\": \"animate\"}, {\"args\": [[\"2004\"], {\"frame\": {\"duration\": 0, \"redraw\": false}, \"fromcurrent\": true, \"mode\": \"immediate\", \"transition\": {\"duration\": 0, \"easing\": \"linear\"}}], \"label\": \"2004\", \"method\": \"animate\"}, {\"args\": [[\"2005\"], {\"frame\": {\"duration\": 0, \"redraw\": false}, \"fromcurrent\": true, \"mode\": \"immediate\", \"transition\": {\"duration\": 0, \"easing\": \"linear\"}}], \"label\": \"2005\", \"method\": \"animate\"}, {\"args\": [[\"2006\"], {\"frame\": {\"duration\": 0, \"redraw\": false}, \"fromcurrent\": true, \"mode\": \"immediate\", \"transition\": {\"duration\": 0, \"easing\": \"linear\"}}], \"label\": \"2006\", \"method\": \"animate\"}], \"x\": 0.1, \"xanchor\": \"left\", \"y\": 0, \"yanchor\": \"top\"}], \"template\": {\"data\": {\"bar\": [{\"error_x\": {\"color\": \"#2a3f5f\"}, \"error_y\": {\"color\": \"#2a3f5f\"}, \"marker\": {\"line\": {\"color\": \"#E5ECF6\", \"width\": 0.5}}, \"type\": \"bar\"}], \"barpolar\": [{\"marker\": {\"line\": {\"color\": \"#E5ECF6\", \"width\": 0.5}}, \"type\": \"barpolar\"}], \"carpet\": [{\"aaxis\": {\"endlinecolor\": \"#2a3f5f\", \"gridcolor\": \"white\", \"linecolor\": \"white\", \"minorgridcolor\": \"white\", \"startlinecolor\": \"#2a3f5f\"}, \"baxis\": {\"endlinecolor\": \"#2a3f5f\", \"gridcolor\": \"white\", \"linecolor\": \"white\", \"minorgridcolor\": \"white\", \"startlinecolor\": \"#2a3f5f\"}, \"type\": \"carpet\"}], \"choropleth\": [{\"colorbar\": {\"outlinewidth\": 0, \"ticks\": \"\"}, \"type\": \"choropleth\"}], \"contour\": [{\"colorbar\": {\"outlinewidth\": 0, \"ticks\": \"\"}, \"colorscale\": [[0.0, \"#0d0887\"], [0.1111111111111111, \"#46039f\"], [0.2222222222222222, \"#7201a8\"], [0.3333333333333333, \"#9c179e\"], [0.4444444444444444, \"#bd3786\"], [0.5555555555555556, \"#d8576b\"], [0.6666666666666666, \"#ed7953\"], [0.7777777777777778, \"#fb9f3a\"], [0.8888888888888888, \"#fdca26\"], [1.0, \"#f0f921\"]], \"type\": \"contour\"}], \"contourcarpet\": [{\"colorbar\": {\"outlinewidth\": 0, \"ticks\": \"\"}, \"type\": \"contourcarpet\"}], \"heatmap\": [{\"colorbar\": {\"outlinewidth\": 0, \"ticks\": \"\"}, \"colorscale\": [[0.0, \"#0d0887\"], [0.1111111111111111, \"#46039f\"], [0.2222222222222222, \"#7201a8\"], [0.3333333333333333, \"#9c179e\"], [0.4444444444444444, \"#bd3786\"], [0.5555555555555556, \"#d8576b\"], [0.6666666666666666, \"#ed7953\"], [0.7777777777777778, \"#fb9f3a\"], [0.8888888888888888, \"#fdca26\"], [1.0, \"#f0f921\"]], \"type\": \"heatmap\"}], \"heatmapgl\": [{\"colorbar\": {\"outlinewidth\": 0, \"ticks\": \"\"}, \"colorscale\": [[0.0, \"#0d0887\"], [0.1111111111111111, \"#46039f\"], [0.2222222222222222, \"#7201a8\"], [0.3333333333333333, \"#9c179e\"], [0.4444444444444444, \"#bd3786\"], [0.5555555555555556, \"#d8576b\"], [0.6666666666666666, \"#ed7953\"], [0.7777777777777778, \"#fb9f3a\"], [0.8888888888888888, \"#fdca26\"], [1.0, \"#f0f921\"]], \"type\": \"heatmapgl\"}], \"histogram\": [{\"marker\": {\"colorbar\": {\"outlinewidth\": 0, \"ticks\": \"\"}}, \"type\": \"histogram\"}], \"histogram2d\": [{\"colorbar\": {\"outlinewidth\": 0, \"ticks\": \"\"}, \"colorscale\": [[0.0, \"#0d0887\"], [0.1111111111111111, \"#46039f\"], [0.2222222222222222, \"#7201a8\"], [0.3333333333333333, \"#9c179e\"], [0.4444444444444444, \"#bd3786\"], [0.5555555555555556, \"#d8576b\"], [0.6666666666666666, \"#ed7953\"], [0.7777777777777778, \"#fb9f3a\"], [0.8888888888888888, \"#fdca26\"], [1.0, \"#f0f921\"]], \"type\": \"histogram2d\"}], \"histogram2dcontour\": [{\"colorbar\": {\"outlinewidth\": 0, \"ticks\": \"\"}, \"colorscale\": [[0.0, \"#0d0887\"], [0.1111111111111111, \"#46039f\"], [0.2222222222222222, \"#7201a8\"], [0.3333333333333333, \"#9c179e\"], [0.4444444444444444, \"#bd3786\"], [0.5555555555555556, \"#d8576b\"], [0.6666666666666666, \"#ed7953\"], [0.7777777777777778, \"#fb9f3a\"], [0.8888888888888888, \"#fdca26\"], [1.0, \"#f0f921\"]], \"type\": \"histogram2dcontour\"}], \"mesh3d\": [{\"colorbar\": {\"outlinewidth\": 0, \"ticks\": \"\"}, \"type\": \"mesh3d\"}], \"parcoords\": [{\"line\": {\"colorbar\": {\"outlinewidth\": 0, \"ticks\": \"\"}}, \"type\": \"parcoords\"}], \"pie\": [{\"automargin\": true, \"type\": \"pie\"}], \"scatter\": [{\"marker\": {\"colorbar\": {\"outlinewidth\": 0, \"ticks\": \"\"}}, \"type\": \"scatter\"}], \"scatter3d\": [{\"line\": {\"colorbar\": {\"outlinewidth\": 0, \"ticks\": \"\"}}, \"marker\": {\"colorbar\": {\"outlinewidth\": 0, \"ticks\": \"\"}}, \"type\": \"scatter3d\"}], \"scattercarpet\": [{\"marker\": {\"colorbar\": {\"outlinewidth\": 0, \"ticks\": \"\"}}, \"type\": \"scattercarpet\"}], \"scattergeo\": [{\"marker\": {\"colorbar\": {\"outlinewidth\": 0, \"ticks\": \"\"}}, \"type\": \"scattergeo\"}], \"scattergl\": [{\"marker\": {\"colorbar\": {\"outlinewidth\": 0, \"ticks\": \"\"}}, \"type\": \"scattergl\"}], \"scattermapbox\": [{\"marker\": {\"colorbar\": {\"outlinewidth\": 0, \"ticks\": \"\"}}, \"type\": \"scattermapbox\"}], \"scatterpolar\": [{\"marker\": {\"colorbar\": {\"outlinewidth\": 0, \"ticks\": \"\"}}, \"type\": \"scatterpolar\"}], \"scatterpolargl\": [{\"marker\": {\"colorbar\": {\"outlinewidth\": 0, \"ticks\": \"\"}}, \"type\": \"scatterpolargl\"}], \"scatterternary\": [{\"marker\": {\"colorbar\": {\"outlinewidth\": 0, \"ticks\": \"\"}}, \"type\": \"scatterternary\"}], \"surface\": [{\"colorbar\": {\"outlinewidth\": 0, \"ticks\": \"\"}, \"colorscale\": [[0.0, \"#0d0887\"], [0.1111111111111111, \"#46039f\"], [0.2222222222222222, \"#7201a8\"], [0.3333333333333333, \"#9c179e\"], [0.4444444444444444, \"#bd3786\"], [0.5555555555555556, \"#d8576b\"], [0.6666666666666666, \"#ed7953\"], [0.7777777777777778, \"#fb9f3a\"], [0.8888888888888888, \"#fdca26\"], [1.0, \"#f0f921\"]], \"type\": \"surface\"}], \"table\": [{\"cells\": {\"fill\": {\"color\": \"#EBF0F8\"}, \"line\": {\"color\": \"white\"}}, \"header\": {\"fill\": {\"color\": \"#C8D4E3\"}, \"line\": {\"color\": \"white\"}}, \"type\": \"table\"}]}, \"layout\": {\"annotationdefaults\": {\"arrowcolor\": \"#2a3f5f\", \"arrowhead\": 0, \"arrowwidth\": 1}, \"coloraxis\": {\"colorbar\": {\"outlinewidth\": 0, \"ticks\": \"\"}}, \"colorscale\": {\"diverging\": [[0, \"#8e0152\"], [0.1, \"#c51b7d\"], [0.2, \"#de77ae\"], [0.3, \"#f1b6da\"], [0.4, \"#fde0ef\"], [0.5, \"#f7f7f7\"], [0.6, \"#e6f5d0\"], [0.7, \"#b8e186\"], [0.8, \"#7fbc41\"], [0.9, \"#4d9221\"], [1, \"#276419\"]], \"sequential\": [[0.0, \"#0d0887\"], [0.1111111111111111, \"#46039f\"], [0.2222222222222222, \"#7201a8\"], [0.3333333333333333, \"#9c179e\"], [0.4444444444444444, \"#bd3786\"], [0.5555555555555556, \"#d8576b\"], [0.6666666666666666, \"#ed7953\"], [0.7777777777777778, \"#fb9f3a\"], [0.8888888888888888, \"#fdca26\"], [1.0, \"#f0f921\"]], \"sequentialminus\": [[0.0, \"#0d0887\"], [0.1111111111111111, \"#46039f\"], [0.2222222222222222, \"#7201a8\"], [0.3333333333333333, \"#9c179e\"], [0.4444444444444444, \"#bd3786\"], [0.5555555555555556, \"#d8576b\"], [0.6666666666666666, \"#ed7953\"], [0.7777777777777778, \"#fb9f3a\"], [0.8888888888888888, \"#fdca26\"], [1.0, \"#f0f921\"]]}, \"colorway\": [\"#636efa\", \"#EF553B\", \"#00cc96\", \"#ab63fa\", \"#FFA15A\", \"#19d3f3\", \"#FF6692\", \"#B6E880\", \"#FF97FF\", \"#FECB52\"], \"font\": {\"color\": \"#2a3f5f\"}, \"geo\": {\"bgcolor\": \"white\", \"lakecolor\": \"white\", \"landcolor\": \"#E5ECF6\", \"showlakes\": true, \"showland\": true, \"subunitcolor\": \"white\"}, \"hoverlabel\": {\"align\": \"left\"}, \"hovermode\": \"closest\", \"mapbox\": {\"style\": \"light\"}, \"paper_bgcolor\": \"white\", \"plot_bgcolor\": \"#E5ECF6\", \"polar\": {\"angularaxis\": {\"gridcolor\": \"white\", \"linecolor\": \"white\", \"ticks\": \"\"}, \"bgcolor\": \"#E5ECF6\", \"radialaxis\": {\"gridcolor\": \"white\", \"linecolor\": \"white\", \"ticks\": \"\"}}, \"scene\": {\"xaxis\": {\"backgroundcolor\": \"#E5ECF6\", \"gridcolor\": \"white\", \"gridwidth\": 2, \"linecolor\": \"white\", \"showbackground\": true, \"ticks\": \"\", \"zerolinecolor\": \"white\"}, \"yaxis\": {\"backgroundcolor\": \"#E5ECF6\", \"gridcolor\": \"white\", \"gridwidth\": 2, \"linecolor\": \"white\", \"showbackground\": true, \"ticks\": \"\", \"zerolinecolor\": \"white\"}, \"zaxis\": {\"backgroundcolor\": \"#E5ECF6\", \"gridcolor\": \"white\", \"gridwidth\": 2, \"linecolor\": \"white\", \"showbackground\": true, \"ticks\": \"\", \"zerolinecolor\": \"white\"}}, \"shapedefaults\": {\"line\": {\"color\": \"#2a3f5f\"}}, \"ternary\": {\"aaxis\": {\"gridcolor\": \"white\", \"linecolor\": \"white\", \"ticks\": \"\"}, \"baxis\": {\"gridcolor\": \"white\", \"linecolor\": \"white\", \"ticks\": \"\"}, \"bgcolor\": \"#E5ECF6\", \"caxis\": {\"gridcolor\": \"white\", \"linecolor\": \"white\", \"ticks\": \"\"}}, \"title\": {\"x\": 0.05}, \"xaxis\": {\"automargin\": true, \"gridcolor\": \"white\", \"linecolor\": \"white\", \"ticks\": \"\", \"title\": {\"standoff\": 15}, \"zerolinecolor\": \"white\", \"zerolinewidth\": 2}, \"yaxis\": {\"automargin\": true, \"gridcolor\": \"white\", \"linecolor\": \"white\", \"ticks\": \"\", \"title\": {\"standoff\": 15}, \"zerolinecolor\": \"white\", \"zerolinewidth\": 2}}}, \"updatemenus\": [{\"buttons\": [{\"args\": [null, {\"frame\": {\"duration\": 500, \"redraw\": false}, \"fromcurrent\": true, \"mode\": \"immediate\", \"transition\": {\"duration\": 500, \"easing\": \"linear\"}}], \"label\": \"&#9654;\", \"method\": \"animate\"}, {\"args\": [[null], {\"frame\": {\"duration\": 0, \"redraw\": false}, \"fromcurrent\": true, \"mode\": \"immediate\", \"transition\": {\"duration\": 0, \"easing\": \"linear\"}}], \"label\": \"&#9724;\", \"method\": \"animate\"}], \"direction\": \"left\", \"pad\": {\"r\": 10, \"t\": 70}, \"showactive\": false, \"type\": \"buttons\", \"x\": 0.1, \"xanchor\": \"right\", \"y\": 0, \"yanchor\": \"top\"}], \"xaxis\": {\"anchor\": \"y\", \"domain\": [0.0, 1.0], \"range\": [0, 20000], \"title\": {\"text\": \"GDP/Capita\"}}, \"yaxis\": {\"anchor\": \"x\", \"domain\": [0.0, 1.0], \"range\": [0, 40000], \"title\": {\"text\": \"Malaria Cases / 100000\"}}},\n",
       "                        {\"responsive\": true}\n",
       "                    ).then(function(){\n",
       "                            Plotly.addFrames('a7a33171-18b9-4335-98f3-fb8df8485368', [{\"data\": [{\"hoverlabel\": {\"namelength\": 0}, \"hovertemplate\": \"<b>%{hovertext}</b><br><br>cont=Africa<br>year=2000<br>GDP/Capita=%{x}<br>Malaria Cases / 100000=%{y}<br>pop=%{marker.size}\", \"hovertext\": [\"Angola\", \"Benin\", \"Botswana\", \"Burkina Faso\", \"Burundi\", \"Chad\", \"Cote d'Ivoire\", \"Djibouti\", \"Egypt\", \"Eritrea\", \"Ethiopia\", \"Ghana\", \"Guinea-Bissau\", \"Kenya\", \"Malawi\", \"Mali\", \"Mauritania\", \"Morocco\", \"Mozambique\", \"Namibia\", \"Niger\", \"Nigeria\", \"Sao Tome and Principe\", \"Senegal\", \"Somalia\", \"South Africa\", \"Sudan\", \"Swaziland\", \"Togo\", \"Zambia\", \"Zimbabwe\"], \"ids\": [\"Angola\", \"Benin\", \"Botswana\", \"Burkina Faso\", \"Burundi\", \"Chad\", \"Cote d'Ivoire\", \"Djibouti\", \"Egypt\", \"Eritrea\", \"Ethiopia\", \"Ghana\", \"Guinea-Bissau\", \"Kenya\", \"Malawi\", \"Mali\", \"Mauritania\", \"Morocco\", \"Mozambique\", \"Namibia\", \"Niger\", \"Nigeria\", \"Sao Tome and Principe\", \"Senegal\", \"Somalia\", \"South Africa\", \"Sudan\", \"Swaziland\", \"Togo\", \"Zambia\", \"Zimbabwe\"], \"legendgroup\": \"Africa\", \"marker\": {\"color\": \"#636efa\", \"size\": [16400000, 6870000, 1640000, 11600000, 6380000, 8360000, 16500000, 718000, 68800000, 2290000, 66200000, 19300000, 1200000, 32000000, 11100000, 10900000, 2630000, 28800000, 17700000, 1790000, 11300000, 122000000, 142000, 9800000, 8870000, 45000000, 27300000, 1010000, 4920000, 10400000, 11900000], \"sizemode\": \"area\", \"sizeref\": 442975.20661157026, \"symbol\": \"circle\"}, \"mode\": \"markers\", \"name\": \"Africa\", \"showlegend\": true, \"x\": [3890, 1670, 10700, 1080, 718, 992, 2990, 2160, 7500, 2490, 621, 2220, 1410, 2100, 884, 1470, 2830, 4490, 573, 6540, 755, 3070, 1960, 2420, 603, 9700, 2320, 6170, 1240, 2130, 2950], \"xaxis\": \"x\", \"y\": [11700.0, 9790.0, 4130.0, 8690.0, 45900.0, 4360.0, 8750.0, 640.0, 0.0255, 3230.0, 553.0, 16600.0, 18000.0, 237.0, 32500.0, 5460.0, 10100.0, 0.205, 18000.0, 27600.0, 5810.0, 1990.0, 31000.0, 10800.0, 147.0, 142.0, 13000.0, 4310.0, 7370.0, 34500.0, 12100.0], \"yaxis\": \"y\", \"type\": \"scatter\"}, {\"hoverlabel\": {\"namelength\": 0}, \"hovertemplate\": \"<b>%{hovertext}</b><br><br>cont=Americas<br>year=2000<br>GDP/Capita=%{x}<br>Malaria Cases / 100000=%{y}<br>pop=%{marker.size}\", \"hovertext\": [\"Argentina\", \"Bolivia\", \"Brazil\", \"Colombia\", \"Costa Rica\", \"Dominican Republic\", \"Ecuador\", \"El Salvador\", \"Guatemala\", \"Honduras\", \"Nicaragua\", \"Panama\", \"Paraguay\", \"Venezuela\"], \"ids\": [\"Argentina\", \"Bolivia\", \"Brazil\", \"Colombia\", \"Costa Rica\", \"Dominican Republic\", \"Ecuador\", \"El Salvador\", \"Guatemala\", \"Honduras\", \"Nicaragua\", \"Panama\", \"Paraguay\", \"Venezuela\"], \"legendgroup\": \"Americas\", \"marker\": {\"color\": \"#EF553B\", \"size\": [36900000, 8420000, 175000000, 39600000, 3960000, 8470000, 12700000, 5890000, 11700000, 6570000, 5070000, 3030000, 5320000, 24200000], \"sizemode\": \"area\", \"sizeref\": 442975.20661157026, \"symbol\": \"circle\"}, \"mode\": \"markers\", \"name\": \"Americas\", \"showlegend\": true, \"x\": [15000, 4370, 11400, 8410, 9790, 8290, 7360, 5610, 6070, 3300, 3420, 10600, 7980, 14600], \"xaxis\": \"x\", \"y\": [1.19, 378.0, 351.0, 258.0, 47.8, 13.9, 801.0, 12.0, 475.0, 567.0, 470.0, 35.1, 128.0, 122.0], \"yaxis\": \"y\", \"type\": \"scatter\"}, {\"hoverlabel\": {\"namelength\": 0}, \"hovertemplate\": \"<b>%{hovertext}</b><br><br>cont=Asia<br>year=2000<br>GDP/Capita=%{x}<br>Malaria Cases / 100000=%{y}<br>pop=%{marker.size}\", \"hovertext\": [\"Bangladesh\", \"Cambodia\", \"China\", \"India\", \"Indonesia\", \"Iran\", \"Iraq\", \"Malaysia\", \"Nepal\", \"Oman\", \"Pakistan\", \"Philippines\", \"Saudi Arabia\", \"Sri Lanka\", \"Syria\", \"Thailand\", \"Vietnam\"], \"ids\": [\"Bangladesh\", \"Cambodia\", \"China\", \"India\", \"Indonesia\", \"Iran\", \"Iraq\", \"Malaysia\", \"Nepal\", \"Oman\", \"Pakistan\", \"Philippines\", \"Saudi Arabia\", \"Sri Lanka\", \"Syria\", \"Thailand\", \"Vietnam\"], \"legendgroup\": \"Asia\", \"marker\": {\"color\": \"#00cc96\", \"size\": [128000000, 12200000, 1290000000, 1060000000, 212000000, 65600000, 23500000, 23200000, 23900000, 2270000, 142000000, 78000000, 20700000, 18800000, 16400000, 63000000, 79900000], \"sizemode\": \"area\", \"sizeref\": 442975.20661157026, \"symbol\": \"circle\"}, \"mode\": \"markers\", \"name\": \"Asia\", \"showlegend\": true, \"x\": [1690, 1390, 3690, 2710, 5810, 13200, 12200, 16300, 1530, 44000, 3400, 4220, 43300, 5540, 5130, 9190, 2570], \"xaxis\": \"x\", \"y\": [43.3, 489.0, 1.46, 194.0, 47.8, 29.8, 7.42, 54.6, 31.2, 28.9, 57.2, 48.0, 31.8, 1120.0, 0.254, 135.0, 94.0], \"yaxis\": \"y\", \"type\": \"scatter\"}, {\"hoverlabel\": {\"namelength\": 0}, \"hovertemplate\": \"<b>%{hovertext}</b><br><br>cont=Europe<br>year=2000<br>GDP/Capita=%{x}<br>Malaria Cases / 100000=%{y}<br>pop=%{marker.size}\", \"hovertext\": [\"Turkey\"], \"ids\": [\"Turkey\"], \"legendgroup\": \"Europe\", \"marker\": {\"color\": \"#ab63fa\", \"size\": [63200000], \"sizemode\": \"area\", \"sizeref\": 442975.20661157026, \"symbol\": \"circle\"}, \"mode\": \"markers\", \"name\": \"Europe\", \"showlegend\": true, \"x\": [13900], \"xaxis\": \"x\", \"y\": [16.8], \"yaxis\": \"y\", \"type\": \"scatter\"}], \"name\": \"2000\"}, {\"data\": [{\"hoverlabel\": {\"namelength\": 0}, \"hovertemplate\": \"<b>%{hovertext}</b><br><br>cont=Africa<br>year=2001<br>GDP/Capita=%{x}<br>Malaria Cases / 100000=%{y}<br>pop=%{marker.size}\", \"hovertext\": [\"Angola\", \"Benin\", \"Botswana\", \"Burkina Faso\", \"Burundi\", \"Chad\", \"Cote d'Ivoire\", \"Djibouti\", \"Egypt\", \"Eritrea\", \"Ethiopia\", \"Ghana\", \"Guinea-Bissau\", \"Kenya\", \"Malawi\", \"Mali\", \"Mauritania\", \"Morocco\", \"Mozambique\", \"Namibia\", \"Niger\", \"Nigeria\", \"Sao Tome and Principe\", \"Senegal\", \"Somalia\", \"South Africa\", \"Sudan\", \"Swaziland\", \"Togo\", \"Zambia\", \"Zimbabwe\"], \"ids\": [\"Angola\", \"Benin\", \"Botswana\", \"Burkina Faso\", \"Burundi\", \"Chad\", \"Cote d'Ivoire\", \"Djibouti\", \"Egypt\", \"Eritrea\", \"Ethiopia\", \"Ghana\", \"Guinea-Bissau\", \"Kenya\", \"Malawi\", \"Mali\", \"Mauritania\", \"Morocco\", \"Mozambique\", \"Namibia\", \"Niger\", \"Nigeria\", \"Sao Tome and Principe\", \"Senegal\", \"Somalia\", \"South Africa\", \"Sudan\", \"Swaziland\", \"Togo\", \"Zambia\", \"Zimbabwe\"], \"legendgroup\": \"Africa\", \"marker\": {\"color\": \"#636efa\", \"size\": [16900000, 7080000, 1670000, 11900000, 6530000, 8680000, 16900000, 733000, 70200000, 2370000, 68200000, 19800000, 1230000, 32800000, 11400000, 11300000, 2700000, 29100000, 18200000, 1820000, 11800000, 125000000, 145000, 10000000, 9190000, 45600000, 28000000, 1010000, 5060000, 10700000, 11900000], \"sizemode\": \"area\", \"sizeref\": 442975.20661157026, \"symbol\": \"circle\"}, \"mode\": \"markers\", \"name\": \"Africa\", \"showlegend\": true, \"x\": [3920, 1700, 10500, 1110, 716, 1070, 2920, 2160, 7620, 2610, 654, 2250, 1410, 2120, 819, 1640, 2810, 4760, 628, 6510, 780, 3170, 1970, 2470, 603, 9830, 2400, 6180, 1180, 2180, 2980], \"xaxis\": \"x\", \"y\": [8730.0, 9620.0, 2750.0, 2880.0, 49200.0, 4720.0, 6860.0, 577.0, 0.0162, 3280.0, 3180.0, 14800.0, 17500.0, 10200.0, 32000.0, 5950.0, 9230.0, 0.20199999999999999, 21200.0, 28200.0, 11600.0, 1760.0, 30900.0, 8780.0, 143.0, 57.6, 12400.0, 1750.0, 8950.0, 36000.0, 5330.0], \"yaxis\": \"y\", \"type\": \"scatter\"}, {\"hoverlabel\": {\"namelength\": 0}, \"hovertemplate\": \"<b>%{hovertext}</b><br><br>cont=Americas<br>year=2001<br>GDP/Capita=%{x}<br>Malaria Cases / 100000=%{y}<br>pop=%{marker.size}\", \"hovertext\": [\"Argentina\", \"Bolivia\", \"Brazil\", \"Colombia\", \"Costa Rica\", \"Dominican Republic\", \"Ecuador\", \"El Salvador\", \"Guatemala\", \"Honduras\", \"Nicaragua\", \"Panama\", \"Paraguay\", \"Venezuela\"], \"ids\": [\"Argentina\", \"Bolivia\", \"Brazil\", \"Colombia\", \"Costa Rica\", \"Dominican Republic\", \"Ecuador\", \"El Salvador\", \"Guatemala\", \"Honduras\", \"Nicaragua\", \"Panama\", \"Paraguay\", \"Venezuela\"], \"legendgroup\": \"Americas\", \"marker\": {\"color\": \"#EF553B\", \"size\": [37300000, 8580000, 177000000, 40300000, 4030000, 8600000, 12900000, 5930000, 11900000, 6750000, 5150000, 3090000, 5430000, 24600000], \"sizemode\": \"area\", \"sizeref\": 442975.20661157026, \"symbol\": \"circle\"}, \"mode\": \"markers\", \"name\": \"Americas\", \"showlegend\": true, \"x\": [14200, 4360, 11400, 8420, 9950, 8370, 7510, 5620, 6070, 3300, 3470, 10500, 7760, 14800], \"xaxis\": \"x\", \"y\": [0.5770000000000001, 1450.0, 220.0, 487.0, 34.0, 11.7, 874.0, 5.75, 311.0, 382.0, 202.0, 30.9, 49.6, 119.0], \"yaxis\": \"y\", \"type\": \"scatter\"}, {\"hoverlabel\": {\"namelength\": 0}, \"hovertemplate\": \"<b>%{hovertext}</b><br><br>cont=Asia<br>year=2001<br>GDP/Capita=%{x}<br>Malaria Cases / 100000=%{y}<br>pop=%{marker.size}\", \"hovertext\": [\"Bangladesh\", \"Cambodia\", \"China\", \"India\", \"Indonesia\", \"Iran\", \"Iraq\", \"Malaysia\", \"Nepal\", \"Oman\", \"Pakistan\", \"Philippines\", \"Saudi Arabia\", \"Sri Lanka\", \"Syria\", \"Thailand\", \"Vietnam\"], \"ids\": [\"Bangladesh\", \"Cambodia\", \"China\", \"India\", \"Indonesia\", \"Iran\", \"Iraq\", \"Malaysia\", \"Nepal\", \"Oman\", \"Pakistan\", \"Philippines\", \"Saudi Arabia\", \"Sri Lanka\", \"Syria\", \"Thailand\", \"Vietnam\"], \"legendgroup\": \"Asia\", \"marker\": {\"color\": \"#00cc96\", \"size\": [130000000, 12400000, 1300000000, 1080000000, 214000000, 66400000, 24200000, 23700000, 24300000, 2290000, 146000000, 79700000, 21200000, 18900000, 16800000, 63500000, 80700000], \"sizemode\": \"area\", \"sizeref\": 442975.20661157026, \"symbol\": \"circle\"}, \"mode\": \"markers\", \"name\": \"Asia\", \"showlegend\": true, \"x\": [1750, 1460, 3970, 2790, 5940, 13200, 12100, 16000, 1570, 45400, 3380, 4260, 41700, 5420, 5210, 9420, 2710], \"xaxis\": \"x\", \"y\": [254.0, 846.0, 2.09, 196.0, 653.0, 28.9, 4.92, 53.8, 586.0, 26.2, 85.1, 44.7, 14.4, 354.0, 0.466, 104.0, 234.0], \"yaxis\": \"y\", \"type\": \"scatter\"}, {\"hoverlabel\": {\"namelength\": 0}, \"hovertemplate\": \"<b>%{hovertext}</b><br><br>cont=Europe<br>year=2001<br>GDP/Capita=%{x}<br>Malaria Cases / 100000=%{y}<br>pop=%{marker.size}\", \"hovertext\": [\"Turkey\"], \"ids\": [\"Turkey\"], \"legendgroup\": \"Europe\", \"marker\": {\"color\": \"#ab63fa\", \"size\": [64200000], \"sizemode\": \"area\", \"sizeref\": 442975.20661157026, \"symbol\": \"circle\"}, \"mode\": \"markers\", \"name\": \"Europe\", \"showlegend\": true, \"x\": [12800], \"xaxis\": \"x\", \"y\": [15.6], \"yaxis\": \"y\", \"type\": \"scatter\"}], \"name\": \"2001\"}, {\"data\": [{\"hoverlabel\": {\"namelength\": 0}, \"hovertemplate\": \"<b>%{hovertext}</b><br><br>cont=Africa<br>year=2002<br>GDP/Capita=%{x}<br>Malaria Cases / 100000=%{y}<br>pop=%{marker.size}\", \"hovertext\": [\"Angola\", \"Benin\", \"Botswana\", \"Burkina Faso\", \"Burundi\", \"Chad\", \"Cote d'Ivoire\", \"Djibouti\", \"Egypt\", \"Eritrea\", \"Ethiopia\", \"Ghana\", \"Guinea-Bissau\", \"Kenya\", \"Malawi\", \"Mali\", \"Mauritania\", \"Morocco\", \"Mozambique\", \"Namibia\", \"Niger\", \"Nigeria\", \"Sao Tome and Principe\", \"Senegal\", \"Somalia\", \"South Africa\", \"Sudan\", \"Swaziland\", \"Togo\", \"Zambia\", \"Zimbabwe\"], \"ids\": [\"Angola\", \"Benin\", \"Botswana\", \"Burkina Faso\", \"Burundi\", \"Chad\", \"Cote d'Ivoire\", \"Djibouti\", \"Egypt\", \"Eritrea\", \"Ethiopia\", \"Ghana\", \"Guinea-Bissau\", \"Kenya\", \"Malawi\", \"Mali\", \"Mauritania\", \"Morocco\", \"Mozambique\", \"Namibia\", \"Niger\", \"Nigeria\", \"Sao Tome and Principe\", \"Senegal\", \"Somalia\", \"South Africa\", \"Sudan\", \"Swaziland\", \"Togo\", \"Zambia\", \"Zimbabwe\"], \"legendgroup\": \"Africa\", \"marker\": {\"color\": \"#636efa\", \"size\": [17500000, 7300000, 1700000, 12300000, 6700000, 9020000, 17200000, 747000, 71500000, 2480000, 70100000, 20200000, 1250000, 33800000, 11700000, 11600000, 2780000, 29500000, 18800000, 1850000, 12200000, 129000000, 147000, 10300000, 9500000, 46200000, 28700000, 1020000, 5200000, 11000000, 12000000], \"sizemode\": \"area\", \"sizeref\": 442975.20661157026, \"symbol\": \"circle\"}, \"mode\": \"markers\", \"name\": \"Africa\", \"showlegend\": true, \"x\": [4320, 1730, 11000, 1130, 728, 1110, 2810, 2180, 7660, 2570, 645, 2300, 1370, 2070, 813, 1640, 2760, 4850, 663, 6720, 774, 3570, 1980, 2430, 607, 10100, 2490, 6420, 1140, 2220, 2710], \"xaxis\": \"x\", \"y\": [12600.0, 10200.0, 1630.0, 9390.0, 37600.0, 5070.0, 6270.0, 658.0, 0.0145, 1870.0, 3440.0, 14900.0, 13900.0, 10100.0, 22700.0, 6820.0, 8260.0, 0.363, 24000.0, 23000.0, 7440.0, 1980.0, 35100.0, 8820.0, 1290.0, 33.6, 10100.0, 1360.0, 10200.0, 34600.0, 10500.0], \"yaxis\": \"y\", \"type\": \"scatter\"}, {\"hoverlabel\": {\"namelength\": 0}, \"hovertemplate\": \"<b>%{hovertext}</b><br><br>cont=Americas<br>year=2002<br>GDP/Capita=%{x}<br>Malaria Cases / 100000=%{y}<br>pop=%{marker.size}\", \"hovertext\": [\"Argentina\", \"Bolivia\", \"Brazil\", \"Colombia\", \"Costa Rica\", \"Dominican Republic\", \"Ecuador\", \"El Salvador\", \"Guatemala\", \"Honduras\", \"Nicaragua\", \"Panama\", \"Paraguay\", \"Venezuela\"], \"ids\": [\"Argentina\", \"Bolivia\", \"Brazil\", \"Colombia\", \"Costa Rica\", \"Dominican Republic\", \"Ecuador\", \"El Salvador\", \"Guatemala\", \"Honduras\", \"Nicaragua\", \"Panama\", \"Paraguay\", \"Venezuela\"], \"legendgroup\": \"Americas\", \"marker\": {\"color\": \"#EF553B\", \"size\": [37700000, 8740000, 180000000, 40900000, 4100000, 8720000, 13100000, 5960000, 12200000, 6930000, 5220000, 3150000, 5530000, 25100000], \"sizemode\": \"area\", \"sizeref\": 442975.20661157026, \"symbol\": \"circle\"}, \"mode\": \"markers\", \"name\": \"Americas\", \"showlegend\": true, \"x\": [12500, 4390, 11600, 8500, 10100, 8620, 7690, 5680, 6160, 3340, 3440, 10500, 7620, 13300], \"xaxis\": \"x\", \"y\": [0.332, 1590.0, 194.0, 455.0, 24.9, 14.3, 687.0, 1.83, 301.0, 267.0, 146.0, 71.9, 49.9, 116.0], \"yaxis\": \"y\", \"type\": \"scatter\"}, {\"hoverlabel\": {\"namelength\": 0}, \"hovertemplate\": \"<b>%{hovertext}</b><br><br>cont=Asia<br>year=2002<br>GDP/Capita=%{x}<br>Malaria Cases / 100000=%{y}<br>pop=%{marker.size}\", \"hovertext\": [\"Bangladesh\", \"Cambodia\", \"China\", \"India\", \"Indonesia\", \"Iran\", \"Iraq\", \"Malaysia\", \"Nepal\", \"Oman\", \"Pakistan\", \"Philippines\", \"Saudi Arabia\", \"Sri Lanka\", \"Syria\", \"Thailand\", \"Vietnam\"], \"ids\": [\"Bangladesh\", \"Cambodia\", \"China\", \"India\", \"Indonesia\", \"Iran\", \"Iraq\", \"Malaysia\", \"Nepal\", \"Oman\", \"Pakistan\", \"Philippines\", \"Saudi Arabia\", \"Sri Lanka\", \"Syria\", \"Thailand\", \"Vietnam\"], \"legendgroup\": \"Asia\", \"marker\": {\"color\": \"#00cc96\", \"size\": [132000000, 12600000, 1310000000, 1090000000, 217000000, 67300000, 24900000, 24200000, 24700000, 2330000, 150000000, 81400000, 21800000, 19100000, 17100000, 64100000, 81500000], \"sizemode\": \"area\", \"sizeref\": 442975.20661157026, \"symbol\": \"circle\"}, \"mode\": \"markers\", \"name\": \"Asia\", \"showlegend\": true, \"x\": [1780, 1530, 4300, 2850, 6120, 14000, 11000, 16500, 1550, 44100, 3410, 4320, 39400, 5590, 5420, 9920, 2850], \"xaxis\": \"x\", \"y\": [212.0, 756.0, 13.3, 170.0, 687.0, 23.1, 3.62, 45.4, 523.0, 24.1, 71.8, 46.5, 11.9, 219.0, 0.155, 72.2, 227.0], \"yaxis\": \"y\", \"type\": \"scatter\"}, {\"hoverlabel\": {\"namelength\": 0}, \"hovertemplate\": \"<b>%{hovertext}</b><br><br>cont=Europe<br>year=2002<br>GDP/Capita=%{x}<br>Malaria Cases / 100000=%{y}<br>pop=%{marker.size}\", \"hovertext\": [\"Turkey\"], \"ids\": [\"Turkey\"], \"legendgroup\": \"Europe\", \"marker\": {\"color\": \"#ab63fa\", \"size\": [65100000], \"sizemode\": \"area\", \"sizeref\": 442975.20661157026, \"symbol\": \"circle\"}, \"mode\": \"markers\", \"name\": \"Europe\", \"showlegend\": true, \"x\": [13500], \"xaxis\": \"x\", \"y\": [14.6], \"yaxis\": \"y\", \"type\": \"scatter\"}], \"name\": \"2002\"}, {\"data\": [{\"hoverlabel\": {\"namelength\": 0}, \"hovertemplate\": \"<b>%{hovertext}</b><br><br>cont=Africa<br>year=2003<br>GDP/Capita=%{x}<br>Malaria Cases / 100000=%{y}<br>pop=%{marker.size}\", \"hovertext\": [\"Angola\", \"Benin\", \"Botswana\", \"Burkina Faso\", \"Burundi\", \"Chad\", \"Cote d'Ivoire\", \"Djibouti\", \"Egypt\", \"Eritrea\", \"Ethiopia\", \"Ghana\", \"Guinea-Bissau\", \"Kenya\", \"Malawi\", \"Mali\", \"Mauritania\", \"Morocco\", \"Mozambique\", \"Namibia\", \"Niger\", \"Nigeria\", \"Sao Tome and Principe\", \"Senegal\", \"Somalia\", \"South Africa\", \"Sudan\", \"Swaziland\", \"Togo\", \"Zambia\", \"Zimbabwe\"], \"ids\": [\"Angola\", \"Benin\", \"Botswana\", \"Burkina Faso\", \"Burundi\", \"Chad\", \"Cote d'Ivoire\", \"Djibouti\", \"Egypt\", \"Eritrea\", \"Ethiopia\", \"Ghana\", \"Guinea-Bissau\", \"Kenya\", \"Malawi\", \"Mali\", \"Mauritania\", \"Morocco\", \"Mozambique\", \"Namibia\", \"Niger\", \"Nigeria\", \"Sao Tome and Principe\", \"Senegal\", \"Somalia\", \"South Africa\", \"Sudan\", \"Swaziland\", \"Togo\", \"Zambia\", \"Zimbabwe\"], \"legendgroup\": \"Africa\", \"marker\": {\"color\": \"#636efa\", \"size\": [18100000, 7520000, 1730000, 12700000, 6910000, 9370000, 17600000, 760000, 72800000, 2600000, 72200000, 20800000, 1280000, 34700000, 12000000, 12000000, 2860000, 29800000, 19300000, 1880000, 12600000, 132000000, 150000, 10500000, 9820000, 46700000, 29500000, 1020000, 5330000, 11300000, 12000000], \"sizemode\": \"area\", \"sizeref\": 442975.20661157026, \"symbol\": \"circle\"}, \"mode\": \"markers\", \"name\": \"Africa\", \"showlegend\": true, \"x\": [4300, 1740, 11300, 1180, 698, 1230, 2710, 2210, 7760, 2390, 613, 2360, 1340, 2080, 839, 1740, 2840, 5080, 686, 6900, 786, 3730, 2070, 2520, 611, 10200, 2610, 6640, 1170, 2320, 2240], \"xaxis\": \"x\", \"y\": [21400.0, 10300.0, 13200.0, 11000.0, 31000.0, 4900.0, 6320.0, 648.0, 0.064, 1570.0, 4190.0, 16500.0, 13000.0, 15100.0, 26700.0, 7410.0, 11400.0, 0.245, 24800.0, 23800.0, 5510.0, 1940.0, 32400.0, 12700.0, 302.0, 28.6, 10500.0, 1040.0, 8300.0, 39300.0, 14100.0], \"yaxis\": \"y\", \"type\": \"scatter\"}, {\"hoverlabel\": {\"namelength\": 0}, \"hovertemplate\": \"<b>%{hovertext}</b><br><br>cont=Americas<br>year=2003<br>GDP/Capita=%{x}<br>Malaria Cases / 100000=%{y}<br>pop=%{marker.size}\", \"hovertext\": [\"Argentina\", \"Bolivia\", \"Brazil\", \"Colombia\", \"Costa Rica\", \"Dominican Republic\", \"Ecuador\", \"El Salvador\", \"Guatemala\", \"Honduras\", \"Nicaragua\", \"Panama\", \"Paraguay\", \"Venezuela\"], \"ids\": [\"Argentina\", \"Bolivia\", \"Brazil\", \"Colombia\", \"Costa Rica\", \"Dominican Republic\", \"Ecuador\", \"El Salvador\", \"Guatemala\", \"Honduras\", \"Nicaragua\", \"Panama\", \"Paraguay\", \"Venezuela\"], \"legendgroup\": \"Americas\", \"marker\": {\"color\": \"#EF553B\", \"size\": [38100000, 8910000, 182000000, 41500000, 4160000, 8850000, 13400000, 5990000, 12500000, 7110000, 5290000, 3210000, 5630000, 25600000], \"sizemode\": \"area\", \"sizeref\": 442975.20661157026, \"symbol\": \"circle\"}, \"mode\": \"markers\", \"name\": \"Americas\", \"showlegend\": true, \"x\": [13400, 4420, 11600, 8710, 10400, 8380, 7760, 5740, 6170, 3410, 3480, 10800, 7800, 12000], \"xaxis\": \"x\", \"y\": [0.321, 1790.0, 225.0, 377.0, 17.2, 14.1, 408.0, 1.29, 257.0, 215.0, 126.0, 144.0, 24.5, 123.0], \"yaxis\": \"y\", \"type\": \"scatter\"}, {\"hoverlabel\": {\"namelength\": 0}, \"hovertemplate\": \"<b>%{hovertext}</b><br><br>cont=Asia<br>year=2003<br>GDP/Capita=%{x}<br>Malaria Cases / 100000=%{y}<br>pop=%{marker.size}\", \"hovertext\": [\"Bangladesh\", \"Cambodia\", \"China\", \"India\", \"Indonesia\", \"Iran\", \"Iraq\", \"Malaysia\", \"Nepal\", \"Oman\", \"Pakistan\", \"Philippines\", \"Saudi Arabia\", \"Sri Lanka\", \"Syria\", \"Thailand\", \"Vietnam\"], \"ids\": [\"Bangladesh\", \"Cambodia\", \"China\", \"India\", \"Indonesia\", \"Iran\", \"Iraq\", \"Malaysia\", \"Nepal\", \"Oman\", \"Pakistan\", \"Philippines\", \"Saudi Arabia\", \"Sri Lanka\", \"Syria\", \"Thailand\", \"Vietnam\"], \"legendgroup\": \"Asia\", \"marker\": {\"color\": \"#00cc96\", \"size\": [135000000, 12900000, 1320000000, 1110000000, 220000000, 68100000, 25600000, 24700000, 25100000, 2390000, 153000000, 83100000, 22500000, 19200000, 17400000, 64500000, 82300000], \"sizemode\": \"area\", \"sizeref\": 442975.20661157026, \"symbol\": \"circle\"}, \"mode\": \"markers\", \"name\": \"Asia\", \"showlegend\": true, \"x\": [1830, 1630, 4710, 3020, 6330, 15000, 7130, 17200, 1590, 42000, 3490, 4440, 42500, 5870, 5220, 10500, 3020], \"xaxis\": \"x\", \"y\": [333.0, 888.0, 13.0, 170.0, 672.0, 34.6, 1.29, 25.6, 756.0, 30.1, 82.0, 59.7, 7.67, 55.4, 0.134, 60.1, 199.0], \"yaxis\": \"y\", \"type\": \"scatter\"}, {\"hoverlabel\": {\"namelength\": 0}, \"hovertemplate\": \"<b>%{hovertext}</b><br><br>cont=Europe<br>year=2003<br>GDP/Capita=%{x}<br>Malaria Cases / 100000=%{y}<br>pop=%{marker.size}\", \"hovertext\": [\"Turkey\"], \"ids\": [\"Turkey\"], \"legendgroup\": \"Europe\", \"marker\": {\"color\": \"#ab63fa\", \"size\": [66100000], \"sizemode\": \"area\", \"sizeref\": 442975.20661157026, \"symbol\": \"circle\"}, \"mode\": \"markers\", \"name\": \"Europe\", \"showlegend\": true, \"x\": [14000], \"xaxis\": \"x\", \"y\": [13.0], \"yaxis\": \"y\", \"type\": \"scatter\"}], \"name\": \"2003\"}, {\"data\": [{\"hoverlabel\": {\"namelength\": 0}, \"hovertemplate\": \"<b>%{hovertext}</b><br><br>cont=Africa<br>year=2004<br>GDP/Capita=%{x}<br>Malaria Cases / 100000=%{y}<br>pop=%{marker.size}\", \"hovertext\": [\"Angola\", \"Benin\", \"Botswana\", \"Burkina Faso\", \"Burundi\", \"Chad\", \"Cote d'Ivoire\", \"Djibouti\", \"Egypt\", \"Eritrea\", \"Ethiopia\", \"Ghana\", \"Guinea-Bissau\", \"Kenya\", \"Malawi\", \"Mali\", \"Mauritania\", \"Morocco\", \"Mozambique\", \"Namibia\", \"Niger\", \"Nigeria\", \"Sao Tome and Principe\", \"Senegal\", \"Somalia\", \"South Africa\", \"Sudan\", \"Swaziland\", \"Togo\", \"Zambia\", \"Zimbabwe\"], \"ids\": [\"Angola\", \"Benin\", \"Botswana\", \"Burkina Faso\", \"Burundi\", \"Chad\", \"Cote d'Ivoire\", \"Djibouti\", \"Egypt\", \"Eritrea\", \"Ethiopia\", \"Ghana\", \"Guinea-Bissau\", \"Kenya\", \"Malawi\", \"Mali\", \"Mauritania\", \"Morocco\", \"Mozambique\", \"Namibia\", \"Niger\", \"Nigeria\", \"Sao Tome and Principe\", \"Senegal\", \"Somalia\", \"South Africa\", \"Sudan\", \"Swaziland\", \"Togo\", \"Zambia\", \"Zimbabwe\"], \"legendgroup\": \"Africa\", \"marker\": {\"color\": \"#636efa\", \"size\": [18800000, 7750000, 1770000, 13000000, 7130000, 9730000, 18000000, 772000, 74200000, 2720000, 74200000, 21300000, 1310000, 35600000, 12300000, 12400000, 2940000, 30100000, 19900000, 1910000, 13100000, 135000000, 154000, 10800000, 10100000, 47300000, 30200000, 1030000, 5470000, 11600000, 12000000], \"sizemode\": \"area\", \"sizeref\": 442975.20661157026, \"symbol\": \"circle\"}, \"mode\": \"markers\", \"name\": \"Africa\", \"showlegend\": true, \"x\": [4610, 1760, 11400, 1200, 709, 1580, 2690, 2260, 7930, 2320, 677, 2430, 1350, 2120, 862, 1710, 2920, 5260, 718, 7630, 758, 3970, 2110, 2610, 614, 10600, 2630, 6860, 1160, 2420, 2100], \"xaxis\": \"x\", \"y\": [15900.0, 10400.0, 1230.0, 11500.0, 23100.0, 4030.0, 6980.0, 271.0, 0.0601, 638.0, 7410.0, 15500.0, 10500.0, 21800.0, 22300.0, 17500.0, 7800.0, 0.18600000000000003, 28000.0, 30600.0, 5940.0, 2400.0, 35900.0, 10400.0, 462.0, 28.2, 7190.0, 851.0, 8520.0, 36200.0, 13900.0], \"yaxis\": \"y\", \"type\": \"scatter\"}, {\"hoverlabel\": {\"namelength\": 0}, \"hovertemplate\": \"<b>%{hovertext}</b><br><br>cont=Americas<br>year=2004<br>GDP/Capita=%{x}<br>Malaria Cases / 100000=%{y}<br>pop=%{marker.size}\", \"hovertext\": [\"Argentina\", \"Bolivia\", \"Brazil\", \"Colombia\", \"Costa Rica\", \"Dominican Republic\", \"Ecuador\", \"El Salvador\", \"Guatemala\", \"Honduras\", \"Nicaragua\", \"Panama\", \"Paraguay\", \"Venezuela\"], \"ids\": [\"Argentina\", \"Bolivia\", \"Brazil\", \"Colombia\", \"Costa Rica\", \"Dominican Republic\", \"Ecuador\", \"El Salvador\", \"Guatemala\", \"Honduras\", \"Nicaragua\", \"Panama\", \"Paraguay\", \"Venezuela\"], \"legendgroup\": \"Americas\", \"marker\": {\"color\": \"#EF553B\", \"size\": [38500000, 9070000, 184000000, 42100000, 4230000, 8970000, 13600000, 6020000, 12800000, 7280000, 5360000, 3270000, 5730000, 26000000], \"sizemode\": \"area\", \"sizeref\": 442975.20661157026, \"symbol\": \"circle\"}, \"mode\": \"markers\", \"name\": \"Americas\", \"showlegend\": true, \"x\": [14500, 4520, 12100, 9040, 10700, 8480, 8260, 5760, 6210, 3530, 3620, 11300, 7980, 14000], \"xaxis\": \"x\", \"y\": [0.3, 1810.0, 252.0, 264.0, 30.3, 25.3, 222.0, 1.7, 234.0, 258.0, 128.0, 161.0, 12.0, 178.0], \"yaxis\": \"y\", \"type\": \"scatter\"}, {\"hoverlabel\": {\"namelength\": 0}, \"hovertemplate\": \"<b>%{hovertext}</b><br><br>cont=Asia<br>year=2004<br>GDP/Capita=%{x}<br>Malaria Cases / 100000=%{y}<br>pop=%{marker.size}\", \"hovertext\": [\"Bangladesh\", \"Cambodia\", \"China\", \"India\", \"Indonesia\", \"Iran\", \"Iraq\", \"Malaysia\", \"Nepal\", \"Oman\", \"Pakistan\", \"Philippines\", \"Saudi Arabia\", \"Sri Lanka\", \"Syria\", \"Thailand\", \"Vietnam\"], \"ids\": [\"Bangladesh\", \"Cambodia\", \"China\", \"India\", \"Indonesia\", \"Iran\", \"Iraq\", \"Malaysia\", \"Nepal\", \"Oman\", \"Pakistan\", \"Philippines\", \"Saudi Arabia\", \"Sri Lanka\", \"Syria\", \"Thailand\", \"Vietnam\"], \"legendgroup\": \"Asia\", \"marker\": {\"color\": \"#00cc96\", \"size\": [137000000, 13100000, 1320000000, 1130000000, 223000000, 69000000, 26300000, 25200000, 25400000, 2450000, 157000000, 84700000, 23100000, 19400000, 17800000, 65000000, 83100000], \"sizemode\": \"area\", \"sizeref\": 442975.20661157026, \"symbol\": \"circle\"}, \"mode\": \"markers\", \"name\": \"Asia\", \"showlegend\": true, \"x\": [1900, 1770, 5150, 3210, 6560, 15500, 10700, 18000, 1640, 41500, 3660, 4650, 44600, 6140, 5460, 11100, 3210], \"xaxis\": \"x\", \"y\": [143.0, 670.0, 11.1, 172.0, 670.0, 20.1, 0.565, 24.4, 530.0, 24.8, 81.6, 61.4, 5.35, 19.5, 0.0707, 42.7, 153.0], \"yaxis\": \"y\", \"type\": \"scatter\"}, {\"hoverlabel\": {\"namelength\": 0}, \"hovertemplate\": \"<b>%{hovertext}</b><br><br>cont=Europe<br>year=2004<br>GDP/Capita=%{x}<br>Malaria Cases / 100000=%{y}<br>pop=%{marker.size}\", \"hovertext\": [\"Turkey\"], \"ids\": [\"Turkey\"], \"legendgroup\": \"Europe\", \"marker\": {\"color\": \"#ab63fa\", \"size\": [67000000], \"sizemode\": \"area\", \"sizeref\": 442975.20661157026, \"symbol\": \"circle\"}, \"mode\": \"markers\", \"name\": \"Europe\", \"showlegend\": true, \"x\": [15200], \"xaxis\": \"x\", \"y\": [7.34], \"yaxis\": \"y\", \"type\": \"scatter\"}], \"name\": \"2004\"}, {\"data\": [{\"hoverlabel\": {\"namelength\": 0}, \"hovertemplate\": \"<b>%{hovertext}</b><br><br>cont=Africa<br>year=2005<br>GDP/Capita=%{x}<br>Malaria Cases / 100000=%{y}<br>pop=%{marker.size}\", \"hovertext\": [\"Angola\", \"Benin\", \"Botswana\", \"Burkina Faso\", \"Burundi\", \"Chad\", \"Cote d'Ivoire\", \"Djibouti\", \"Egypt\", \"Eritrea\", \"Ethiopia\", \"Ghana\", \"Guinea-Bissau\", \"Kenya\", \"Malawi\", \"Mali\", \"Mauritania\", \"Morocco\", \"Mozambique\", \"Namibia\", \"Niger\", \"Nigeria\", \"Sao Tome and Principe\", \"Senegal\", \"Somalia\", \"South Africa\", \"Sudan\", \"Swaziland\", \"Togo\", \"Zambia\", \"Zimbabwe\"], \"ids\": [\"Angola\", \"Benin\", \"Botswana\", \"Burkina Faso\", \"Burundi\", \"Chad\", \"Cote d'Ivoire\", \"Djibouti\", \"Egypt\", \"Eritrea\", \"Ethiopia\", \"Ghana\", \"Guinea-Bissau\", \"Kenya\", \"Malawi\", \"Mali\", \"Mauritania\", \"Morocco\", \"Mozambique\", \"Namibia\", \"Niger\", \"Nigeria\", \"Sao Tome and Principe\", \"Senegal\", \"Somalia\", \"South Africa\", \"Sudan\", \"Swaziland\", \"Togo\", \"Zambia\", \"Zimbabwe\"], \"legendgroup\": \"Africa\", \"marker\": {\"color\": \"#636efa\", \"size\": [19400000, 7980000, 1800000, 13400000, 7360000, 10100000, 18400000, 783000, 75500000, 2830000, 76300000, 21800000, 1340000, 36600000, 12600000, 12800000, 3020000, 30500000, 20500000, 1940000, 13600000, 139000000, 157000, 11100000, 10400000, 47900000, 30900000, 1030000, 5610000, 11900000, 12100000], \"sizemode\": \"area\", \"sizeref\": 442975.20661157026, \"symbol\": \"circle\"}, \"mode\": \"markers\", \"name\": \"Africa\", \"showlegend\": true, \"x\": [5110, 1740, 11700, 1270, 693, 1790, 2680, 2290, 8140, 2290, 736, 2510, 1370, 2190, 868, 1760, 3090, 5370, 758, 7700, 763, 4120, 2200, 2680, 616, 11000, 2750, 7240, 1150, 2520, 1980], \"xaxis\": \"x\", \"y\": [14500.0, 9460.0, 612.0, 11600.0, 30100.0, 3930.0, 6890.0, 322.0, 0.0316, 534.0, 4260.0, 15300.0, 11600.0, 25800.0, 27900.0, 8290.0, 7540.0, 0.32799999999999996, 28700.0, 16800.0, 6170.0, 2500.0, 14700.0, 11400.0, 348.0, 16.2, 7730.0, 790.0, 7020.0, 35900.0, 11400.0], \"yaxis\": \"y\", \"type\": \"scatter\"}, {\"hoverlabel\": {\"namelength\": 0}, \"hovertemplate\": \"<b>%{hovertext}</b><br><br>cont=Americas<br>year=2005<br>GDP/Capita=%{x}<br>Malaria Cases / 100000=%{y}<br>pop=%{marker.size}\", \"hovertext\": [\"Argentina\", \"Bolivia\", \"Brazil\", \"Colombia\", \"Costa Rica\", \"Dominican Republic\", \"Ecuador\", \"El Salvador\", \"Guatemala\", \"Honduras\", \"Nicaragua\", \"Panama\", \"Paraguay\", \"Venezuela\"], \"ids\": [\"Argentina\", \"Bolivia\", \"Brazil\", \"Colombia\", \"Costa Rica\", \"Dominican Republic\", \"Ecuador\", \"El Salvador\", \"Guatemala\", \"Honduras\", \"Nicaragua\", \"Panama\", \"Paraguay\", \"Venezuela\"], \"legendgroup\": \"Americas\", \"marker\": {\"color\": \"#EF553B\", \"size\": [38900000, 9230000, 186000000, 42600000, 4290000, 9100000, 13800000, 6050000, 13100000, 7460000, 5440000, 3330000, 5820000, 26400000], \"sizemode\": \"area\", \"sizeref\": 442975.20661157026, \"symbol\": \"circle\"}, \"mode\": \"markers\", \"name\": \"Americas\", \"showlegend\": true, \"x\": [15600, 4640, 12400, 9340, 10900, 9150, 8550, 5890, 6270, 3660, 3720, 11900, 8020, 15100], \"xaxis\": \"x\", \"y\": [0.6679999999999999, 2200.0, 323.0, 263.0, 81.8, 40.5, 131.0, 0.99, 311.0, 234.0, 122.0, 114.0, 6.37, 169.0], \"yaxis\": \"y\", \"type\": \"scatter\"}, {\"hoverlabel\": {\"namelength\": 0}, \"hovertemplate\": \"<b>%{hovertext}</b><br><br>cont=Asia<br>year=2005<br>GDP/Capita=%{x}<br>Malaria Cases / 100000=%{y}<br>pop=%{marker.size}\", \"hovertext\": [\"Bangladesh\", \"Cambodia\", \"China\", \"India\", \"Indonesia\", \"Iran\", \"Iraq\", \"Malaysia\", \"Nepal\", \"Oman\", \"Pakistan\", \"Philippines\", \"Saudi Arabia\", \"Sri Lanka\", \"Syria\", \"Thailand\", \"Vietnam\"], \"ids\": [\"Bangladesh\", \"Cambodia\", \"China\", \"India\", \"Indonesia\", \"Iran\", \"Iraq\", \"Malaysia\", \"Nepal\", \"Oman\", \"Pakistan\", \"Philippines\", \"Saudi Arabia\", \"Sri Lanka\", \"Syria\", \"Thailand\", \"Vietnam\"], \"legendgroup\": \"Asia\", \"marker\": {\"color\": \"#00cc96\", \"size\": [139000000, 13300000, 1330000000, 1150000000, 226000000, 69800000, 26900000, 25700000, 25700000, 2510000, 160000000, 86300000, 23800000, 19500000, 18400000, 65400000, 83800000], \"sizemode\": \"area\", \"sizeref\": 442975.20661157026, \"symbol\": \"circle\"}, \"mode\": \"markers\", \"name\": \"Asia\", \"showlegend\": true, \"x\": [1990, 1970, 5700, 3410, 6840, 15800, 10900, 18600, 1680, 41500, 3850, 4780, 45700, 6470, 5650, 11500, 3430], \"xaxis\": \"x\", \"y\": [124.0, 480.0, 7.58, 160.0, 793.0, 27.3, 0.168, 21.7, 657.0, 21.7, 80.9, 55.0, 4.49, 8.58, 0.14800000000000002, 47.3, 117.0], \"yaxis\": \"y\", \"type\": \"scatter\"}, {\"hoverlabel\": {\"namelength\": 0}, \"hovertemplate\": \"<b>%{hovertext}</b><br><br>cont=Europe<br>year=2005<br>GDP/Capita=%{x}<br>Malaria Cases / 100000=%{y}<br>pop=%{marker.size}\", \"hovertext\": [\"Turkey\"], \"ids\": [\"Turkey\"], \"legendgroup\": \"Europe\", \"marker\": {\"color\": \"#ab63fa\", \"size\": [67900000], \"sizemode\": \"area\", \"sizeref\": 442975.20661157026, \"symbol\": \"circle\"}, \"mode\": \"markers\", \"name\": \"Europe\", \"showlegend\": true, \"x\": [16300], \"xaxis\": \"x\", \"y\": [2.81], \"yaxis\": \"y\", \"type\": \"scatter\"}], \"name\": \"2005\"}, {\"data\": [{\"hoverlabel\": {\"namelength\": 0}, \"hovertemplate\": \"<b>%{hovertext}</b><br><br>cont=Africa<br>year=2006<br>GDP/Capita=%{x}<br>Malaria Cases / 100000=%{y}<br>pop=%{marker.size}\", \"hovertext\": [\"Angola\", \"Benin\", \"Botswana\", \"Burkina Faso\", \"Burundi\", \"Chad\", \"Cote d'Ivoire\", \"Djibouti\", \"Egypt\", \"Eritrea\", \"Ethiopia\", \"Ghana\", \"Guinea-Bissau\", \"Kenya\", \"Malawi\", \"Mali\", \"Mauritania\", \"Morocco\", \"Mozambique\", \"Namibia\", \"Niger\", \"Nigeria\", \"Sao Tome and Principe\", \"Senegal\", \"Somalia\", \"South Africa\", \"Sudan\", \"Swaziland\", \"Togo\", \"Zambia\", \"Zimbabwe\"], \"ids\": [\"Angola\", \"Benin\", \"Botswana\", \"Burkina Faso\", \"Burundi\", \"Chad\", \"Cote d'Ivoire\", \"Djibouti\", \"Egypt\", \"Eritrea\", \"Ethiopia\", \"Ghana\", \"Guinea-Bissau\", \"Kenya\", \"Malawi\", \"Mali\", \"Mauritania\", \"Morocco\", \"Mozambique\", \"Namibia\", \"Niger\", \"Nigeria\", \"Sao Tome and Principe\", \"Senegal\", \"Somalia\", \"South Africa\", \"Sudan\", \"Swaziland\", \"Togo\", \"Zambia\", \"Zimbabwe\"], \"legendgroup\": \"Africa\", \"marker\": {\"color\": \"#636efa\", \"size\": [20100000, 8220000, 1840000, 13800000, 7610000, 10500000, 18800000, 795000, 76900000, 2920000, 78500000, 22400000, 1380000, 37600000, 13000000, 13200000, 3110000, 30800000, 21100000, 1970000, 14100000, 143000000, 162000, 11400000, 10800000, 48500000, 31700000, 1040000, 5760000, 12200000, 12200000], \"sizemode\": \"area\", \"sizeref\": 442975.20661157026, \"symbol\": \"circle\"}, \"mode\": \"markers\", \"name\": \"Africa\", \"showlegend\": true, \"x\": [5500, 1750, 12400, 1310, 707, 1740, 2660, 2360, 8540, 2190, 794, 2600, 1370, 2270, 884, 1790, 3570, 5710, 809, 8110, 777, 4260, 2340, 2680, 615, 11500, 2950, 7630, 1160, 2650, 1890], \"xaxis\": \"x\", \"y\": [13800.0, 9840.0, 1020.0, 14400.0, 26500.0, 3820.0, 6630.0, 942.0, 0.0391, 216.0, 4640.0, 15300.0, 9040.0, 21800.0, 31000.0, 8540.0, 6180.0, 0.26899999999999996, 30200.0, 13000.0, 6450.0, 2750.0, 4700.0, 12900.0, 583.0, 25.1, 5930.0, 331.0, 8840.0, 40500.0, 11600.0], \"yaxis\": \"y\", \"type\": \"scatter\"}, {\"hoverlabel\": {\"namelength\": 0}, \"hovertemplate\": \"<b>%{hovertext}</b><br><br>cont=Americas<br>year=2006<br>GDP/Capita=%{x}<br>Malaria Cases / 100000=%{y}<br>pop=%{marker.size}\", \"hovertext\": [\"Argentina\", \"Bolivia\", \"Brazil\", \"Colombia\", \"Costa Rica\", \"Dominican Republic\", \"Ecuador\", \"El Salvador\", \"Guatemala\", \"Honduras\", \"Nicaragua\", \"Panama\", \"Paraguay\", \"Venezuela\"], \"ids\": [\"Argentina\", \"Bolivia\", \"Brazil\", \"Colombia\", \"Costa Rica\", \"Dominican Republic\", \"Ecuador\", \"El Salvador\", \"Guatemala\", \"Honduras\", \"Nicaragua\", \"Panama\", \"Paraguay\", \"Venezuela\"], \"legendgroup\": \"Americas\", \"marker\": {\"color\": \"#EF553B\", \"size\": [39300000, 9400000, 188000000, 43200000, 4350000, 9220000, 14100000, 6080000, 13400000, 7630000, 5510000, 3390000, 5910000, 26900000], \"sizemode\": \"area\", \"sizeref\": 442975.20661157026, \"symbol\": \"circle\"}, \"mode\": \"markers\", \"name\": \"Americas\", \"showlegend\": true, \"x\": [16700, 4780, 12700, 9840, 11600, 9860, 8780, 6120, 6460, 3810, 3820, 12700, 8280, 16400], \"xaxis\": \"x\", \"y\": [0.534, 2230.0, 290.0, 264.0, 66.0, 36.7, 74.7, 0.6509999999999999, 239.0, 166.0, 56.3, 50.6, 13.7, 136.0], \"yaxis\": \"y\", \"type\": \"scatter\"}, {\"hoverlabel\": {\"namelength\": 0}, \"hovertemplate\": \"<b>%{hovertext}</b><br><br>cont=Asia<br>year=2006<br>GDP/Capita=%{x}<br>Malaria Cases / 100000=%{y}<br>pop=%{marker.size}\", \"hovertext\": [\"Bangladesh\", \"Cambodia\", \"China\", \"India\", \"Indonesia\", \"Iran\", \"Iraq\", \"Malaysia\", \"Nepal\", \"Oman\", \"Pakistan\", \"Philippines\", \"Saudi Arabia\", \"Sri Lanka\", \"Syria\", \"Thailand\", \"Vietnam\"], \"ids\": [\"Bangladesh\", \"Cambodia\", \"China\", \"India\", \"Indonesia\", \"Iran\", \"Iraq\", \"Malaysia\", \"Nepal\", \"Oman\", \"Pakistan\", \"Philippines\", \"Saudi Arabia\", \"Sri Lanka\", \"Syria\", \"Thailand\", \"Vietnam\"], \"legendgroup\": \"Asia\", \"marker\": {\"color\": \"#00cc96\", \"size\": [141000000, 13500000, 1340000000, 1170000000, 229000000, 70600000, 27400000, 26200000, 26100000, 2580000, 164000000, 87900000, 24500000, 19700000, 19100000, 65800000, 84600000], \"sizemode\": \"area\", \"sizeref\": 442975.20661157026, \"symbol\": \"circle\"}, \"mode\": \"markers\", \"name\": \"Asia\", \"showlegend\": true, \"x\": [2100, 2150, 6390, 3630, 7120, 16400, 11800, 19200, 1710, 42500, 4000, 4940, 45700, 6910, 5750, 12000, 3630], \"xaxis\": \"x\", \"y\": [232.0, 628.0, 8.75, 155.0, 580.0, 22.6, 0.0842, 20.3, 560.0, 17.4, 77.6, 40.7, 5.29, 3.08, 0.175, 47.8, 106.0], \"yaxis\": \"y\", \"type\": \"scatter\"}, {\"hoverlabel\": {\"namelength\": 0}, \"hovertemplate\": \"<b>%{hovertext}</b><br><br>cont=Europe<br>year=2006<br>GDP/Capita=%{x}<br>Malaria Cases / 100000=%{y}<br>pop=%{marker.size}\", \"hovertext\": [\"Turkey\"], \"ids\": [\"Turkey\"], \"legendgroup\": \"Europe\", \"marker\": {\"color\": \"#ab63fa\", \"size\": [68800000], \"sizemode\": \"area\", \"sizeref\": 442975.20661157026, \"symbol\": \"circle\"}, \"mode\": \"markers\", \"name\": \"Europe\", \"showlegend\": true, \"x\": [17300], \"xaxis\": \"x\", \"y\": [1.04], \"yaxis\": \"y\", \"type\": \"scatter\"}], \"name\": \"2006\"}]);\n",
       "                        }).then(function(){\n",
       "                            \n",
       "var gd = document.getElementById('a7a33171-18b9-4335-98f3-fb8df8485368');\n",
       "var x = new MutationObserver(function (mutations, observer) {{\n",
       "        var display = window.getComputedStyle(gd).display;\n",
       "        if (!display || display === 'none') {{\n",
       "            console.log([gd, 'removed!']);\n",
       "            Plotly.purge(gd);\n",
       "            observer.disconnect();\n",
       "        }}\n",
       "}});\n",
       "\n",
       "// Listen for the removal of the full notebook cells\n",
       "var notebookContainer = gd.closest('#notebook-container');\n",
       "if (notebookContainer) {{\n",
       "    x.observe(notebookContainer, {childList: true});\n",
       "}}\n",
       "\n",
       "// Listen for the clearing of the current output cell\n",
       "var outputEl = gd.closest('.output');\n",
       "if (outputEl) {{\n",
       "    x.observe(outputEl, {childList: true});\n",
       "}}\n",
       "\n",
       "                        })\n",
       "                };\n",
       "                });\n",
       "            </script>\n",
       "        </div>"
      ]
     },
     "metadata": {},
     "output_type": "display_data"
    }
   ],
   "source": [
    "px.scatter(df, x=\"GDP/Capita\", y=\"Malaria Cases / 100000\", animation_frame=\"year\", animation_group=\"country\",\n",
    "           size=\"pop\", color=\"cont\", hover_name=\"country\",\n",
    "           log_x=False, size_max=55, range_x=[0,20000], range_y=[0,40000])"
   ]
  },
  {
   "cell_type": "code",
   "execution_count": null,
   "metadata": {},
   "outputs": [],
   "source": []
  },
  {
   "cell_type": "code",
   "execution_count": null,
   "metadata": {},
   "outputs": [],
   "source": []
  },
  {
   "cell_type": "code",
   "execution_count": null,
   "metadata": {},
   "outputs": [],
   "source": []
  }
 ],
 "metadata": {
  "kernelspec": {
   "display_name": "Python 3",
   "language": "python",
   "name": "python3"
  },
  "language_info": {
   "codemirror_mode": {
    "name": "ipython",
    "version": 3
   },
   "file_extension": ".py",
   "mimetype": "text/x-python",
   "name": "python",
   "nbconvert_exporter": "python",
   "pygments_lexer": "ipython3",
   "version": "3.7.6"
  }
 },
 "nbformat": 4,
 "nbformat_minor": 4
}
